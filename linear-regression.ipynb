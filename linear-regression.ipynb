{
  "cells": [
    {
      "cell_type": "code",
      "execution_count": 1,
      "metadata": {
        "id": "4SvcmN9C02b3"
      },
      "outputs": [],
      "source": [
        "# import all the necessary libraries here\n",
        "import pandas as pd"
      ]
    },
    {
      "cell_type": "code",
      "execution_count": 2,
      "metadata": {
        "colab": {
          "base_uri": "https://localhost:8080/"
        },
        "id": "9iOoIqLF02b5",
        "outputId": "d829fa96-650a-48fb-896d-23def815b030"
      },
      "outputs": [
        {
          "name": "stdout",
          "output_type": "stream",
          "text": [
            "(1599, 12)\n"
          ]
        }
      ],
      "source": [
        "df = pd.read_csv('linear-regression.csv')\n",
        "print(df.shape)"
      ]
    },
    {
      "cell_type": "code",
      "execution_count": 3,
      "metadata": {
        "colab": {
          "base_uri": "https://localhost:8080/"
        },
        "id": "E5sZW-qa02b6",
        "outputId": "2102f88b-bacb-453b-f2c1-1d40c37857fd"
      },
      "outputs": [
        {
          "name": "stdout",
          "output_type": "stream",
          "text": [
            "      fixed acidity  volatile acidity  citric acid  residual sugar  chlorides  \\\n",
            "0               7.4             0.700         0.00             1.9      0.076   \n",
            "1               7.8             0.880         0.00             2.6      0.098   \n",
            "2               7.8             0.760         0.04             2.3      0.092   \n",
            "3              11.2             0.280         0.56             1.9      0.075   \n",
            "4               7.4             0.700         0.00             1.9      0.076   \n",
            "...             ...               ...          ...             ...        ...   \n",
            "1594            6.2             0.600         0.08             2.0      0.090   \n",
            "1595            5.9             0.550         0.10             2.2      0.062   \n",
            "1596            6.3             0.510         0.13             2.3      0.076   \n",
            "1597            5.9             0.645         0.12             2.0      0.075   \n",
            "1598            6.0             0.310         0.47             3.6      0.067   \n",
            "\n",
            "      free sulfur dioxide  total sulfur dioxide  density    pH  sulphates  \\\n",
            "0                    11.0                  34.0  0.99780  3.51       0.56   \n",
            "1                    25.0                  67.0  0.99680  3.20       0.68   \n",
            "2                    15.0                  54.0  0.99700  3.26       0.65   \n",
            "3                    17.0                  60.0  0.99800  3.16       0.58   \n",
            "4                    11.0                  34.0  0.99780  3.51       0.56   \n",
            "...                   ...                   ...      ...   ...        ...   \n",
            "1594                 32.0                  44.0  0.99490  3.45       0.58   \n",
            "1595                 39.0                  51.0  0.99512  3.52       0.76   \n",
            "1596                 29.0                  40.0  0.99574  3.42       0.75   \n",
            "1597                 32.0                  44.0  0.99547  3.57       0.71   \n",
            "1598                 18.0                  42.0  0.99549  3.39       0.66   \n",
            "\n",
            "      alcohol  quality  \n",
            "0         9.4        5  \n",
            "1         9.8        5  \n",
            "2         9.8        5  \n",
            "3         9.8        6  \n",
            "4         9.4        5  \n",
            "...       ...      ...  \n",
            "1594     10.5        5  \n",
            "1595     11.2        6  \n",
            "1596     11.0        6  \n",
            "1597     10.2        5  \n",
            "1598     11.0        6  \n",
            "\n",
            "[1599 rows x 12 columns]\n"
          ]
        }
      ],
      "source": [
        "print (df)"
      ]
    },
    {
      "cell_type": "code",
      "execution_count": 4,
      "metadata": {
        "colab": {
          "base_uri": "https://localhost:8080/",
          "height": 267
        },
        "id": "f0zf4Hun2m-D",
        "outputId": "e44be999-4853-49fc-a73e-38d6af36988b"
      },
      "outputs": [
        {
          "data": {
            "text/html": [
              "\n",
              "\n",
              "  <div id=\"df-993b052b-4a1d-4b87-8cf5-3727a0bdc5c5\">\n",
              "    <div class=\"colab-df-container\">\n",
              "      <div>\n",
              "<style scoped>\n",
              "    .dataframe tbody tr th:only-of-type {\n",
              "        vertical-align: middle;\n",
              "    }\n",
              "\n",
              "    .dataframe tbody tr th {\n",
              "        vertical-align: top;\n",
              "    }\n",
              "\n",
              "    .dataframe thead th {\n",
              "        text-align: right;\n",
              "    }\n",
              "</style>\n",
              "<table border=\"1\" class=\"dataframe\">\n",
              "  <thead>\n",
              "    <tr style=\"text-align: right;\">\n",
              "      <th></th>\n",
              "      <th>fixed acidity</th>\n",
              "      <th>volatile acidity</th>\n",
              "      <th>citric acid</th>\n",
              "      <th>residual sugar</th>\n",
              "      <th>chlorides</th>\n",
              "      <th>free sulfur dioxide</th>\n",
              "      <th>total sulfur dioxide</th>\n",
              "      <th>density</th>\n",
              "      <th>pH</th>\n",
              "      <th>sulphates</th>\n",
              "      <th>alcohol</th>\n",
              "      <th>quality</th>\n",
              "    </tr>\n",
              "  </thead>\n",
              "  <tbody>\n",
              "    <tr>\n",
              "      <th>0</th>\n",
              "      <td>7.4</td>\n",
              "      <td>0.70</td>\n",
              "      <td>0.00</td>\n",
              "      <td>1.9</td>\n",
              "      <td>0.076</td>\n",
              "      <td>11.0</td>\n",
              "      <td>34.0</td>\n",
              "      <td>0.9978</td>\n",
              "      <td>3.51</td>\n",
              "      <td>0.56</td>\n",
              "      <td>9.4</td>\n",
              "      <td>5</td>\n",
              "    </tr>\n",
              "    <tr>\n",
              "      <th>1</th>\n",
              "      <td>7.8</td>\n",
              "      <td>0.88</td>\n",
              "      <td>0.00</td>\n",
              "      <td>2.6</td>\n",
              "      <td>0.098</td>\n",
              "      <td>25.0</td>\n",
              "      <td>67.0</td>\n",
              "      <td>0.9968</td>\n",
              "      <td>3.20</td>\n",
              "      <td>0.68</td>\n",
              "      <td>9.8</td>\n",
              "      <td>5</td>\n",
              "    </tr>\n",
              "    <tr>\n",
              "      <th>2</th>\n",
              "      <td>7.8</td>\n",
              "      <td>0.76</td>\n",
              "      <td>0.04</td>\n",
              "      <td>2.3</td>\n",
              "      <td>0.092</td>\n",
              "      <td>15.0</td>\n",
              "      <td>54.0</td>\n",
              "      <td>0.9970</td>\n",
              "      <td>3.26</td>\n",
              "      <td>0.65</td>\n",
              "      <td>9.8</td>\n",
              "      <td>5</td>\n",
              "    </tr>\n",
              "    <tr>\n",
              "      <th>3</th>\n",
              "      <td>11.2</td>\n",
              "      <td>0.28</td>\n",
              "      <td>0.56</td>\n",
              "      <td>1.9</td>\n",
              "      <td>0.075</td>\n",
              "      <td>17.0</td>\n",
              "      <td>60.0</td>\n",
              "      <td>0.9980</td>\n",
              "      <td>3.16</td>\n",
              "      <td>0.58</td>\n",
              "      <td>9.8</td>\n",
              "      <td>6</td>\n",
              "    </tr>\n",
              "    <tr>\n",
              "      <th>4</th>\n",
              "      <td>7.4</td>\n",
              "      <td>0.70</td>\n",
              "      <td>0.00</td>\n",
              "      <td>1.9</td>\n",
              "      <td>0.076</td>\n",
              "      <td>11.0</td>\n",
              "      <td>34.0</td>\n",
              "      <td>0.9978</td>\n",
              "      <td>3.51</td>\n",
              "      <td>0.56</td>\n",
              "      <td>9.4</td>\n",
              "      <td>5</td>\n",
              "    </tr>\n",
              "  </tbody>\n",
              "</table>\n",
              "</div>\n",
              "      <button class=\"colab-df-convert\" onclick=\"convertToInteractive('df-993b052b-4a1d-4b87-8cf5-3727a0bdc5c5')\"\n",
              "              title=\"Convert this dataframe to an interactive table.\"\n",
              "              style=\"display:none;\">\n",
              "\n",
              "  <svg xmlns=\"http://www.w3.org/2000/svg\" height=\"24px\"viewBox=\"0 0 24 24\"\n",
              "       width=\"24px\">\n",
              "    <path d=\"M0 0h24v24H0V0z\" fill=\"none\"/>\n",
              "    <path d=\"M18.56 5.44l.94 2.06.94-2.06 2.06-.94-2.06-.94-.94-2.06-.94 2.06-2.06.94zm-11 1L8.5 8.5l.94-2.06 2.06-.94-2.06-.94L8.5 2.5l-.94 2.06-2.06.94zm10 10l.94 2.06.94-2.06 2.06-.94-2.06-.94-.94-2.06-.94 2.06-2.06.94z\"/><path d=\"M17.41 7.96l-1.37-1.37c-.4-.4-.92-.59-1.43-.59-.52 0-1.04.2-1.43.59L10.3 9.45l-7.72 7.72c-.78.78-.78 2.05 0 2.83L4 21.41c.39.39.9.59 1.41.59.51 0 1.02-.2 1.41-.59l7.78-7.78 2.81-2.81c.8-.78.8-2.07 0-2.86zM5.41 20L4 18.59l7.72-7.72 1.47 1.35L5.41 20z\"/>\n",
              "  </svg>\n",
              "      </button>\n",
              "\n",
              "\n",
              "\n",
              "    <div id=\"df-f2edbae6-73e2-4b29-999c-920b867bec1d\">\n",
              "      <button class=\"colab-df-quickchart\" onclick=\"quickchart('df-f2edbae6-73e2-4b29-999c-920b867bec1d')\"\n",
              "              title=\"Suggest charts.\"\n",
              "              style=\"display:none;\">\n",
              "\n",
              "<svg xmlns=\"http://www.w3.org/2000/svg\" height=\"24px\"viewBox=\"0 0 24 24\"\n",
              "     width=\"24px\">\n",
              "    <g>\n",
              "        <path d=\"M19 3H5c-1.1 0-2 .9-2 2v14c0 1.1.9 2 2 2h14c1.1 0 2-.9 2-2V5c0-1.1-.9-2-2-2zM9 17H7v-7h2v7zm4 0h-2V7h2v10zm4 0h-2v-4h2v4z\"/>\n",
              "    </g>\n",
              "</svg>\n",
              "      </button>\n",
              "    </div>\n",
              "\n",
              "<style>\n",
              "  .colab-df-quickchart {\n",
              "    background-color: #E8F0FE;\n",
              "    border: none;\n",
              "    border-radius: 50%;\n",
              "    cursor: pointer;\n",
              "    display: none;\n",
              "    fill: #1967D2;\n",
              "    height: 32px;\n",
              "    padding: 0 0 0 0;\n",
              "    width: 32px;\n",
              "  }\n",
              "\n",
              "  .colab-df-quickchart:hover {\n",
              "    background-color: #E2EBFA;\n",
              "    box-shadow: 0px 1px 2px rgba(60, 64, 67, 0.3), 0px 1px 3px 1px rgba(60, 64, 67, 0.15);\n",
              "    fill: #174EA6;\n",
              "  }\n",
              "\n",
              "  [theme=dark] .colab-df-quickchart {\n",
              "    background-color: #3B4455;\n",
              "    fill: #D2E3FC;\n",
              "  }\n",
              "\n",
              "  [theme=dark] .colab-df-quickchart:hover {\n",
              "    background-color: #434B5C;\n",
              "    box-shadow: 0px 1px 3px 1px rgba(0, 0, 0, 0.15);\n",
              "    filter: drop-shadow(0px 1px 2px rgba(0, 0, 0, 0.3));\n",
              "    fill: #FFFFFF;\n",
              "  }\n",
              "</style>\n",
              "\n",
              "    <script>\n",
              "      async function quickchart(key) {\n",
              "        const containerElement = document.querySelector('#' + key);\n",
              "        const charts = await google.colab.kernel.invokeFunction(\n",
              "            'suggestCharts', [key], {});\n",
              "      }\n",
              "    </script>\n",
              "\n",
              "\n",
              "      <script>\n",
              "\n",
              "function displayQuickchartButton(domScope) {\n",
              "  let quickchartButtonEl =\n",
              "    domScope.querySelector('#df-f2edbae6-73e2-4b29-999c-920b867bec1d button.colab-df-quickchart');\n",
              "  quickchartButtonEl.style.display =\n",
              "    google.colab.kernel.accessAllowed ? 'block' : 'none';\n",
              "}\n",
              "\n",
              "        displayQuickchartButton(document);\n",
              "      </script>\n",
              "      <style>\n",
              "    .colab-df-container {\n",
              "      display:flex;\n",
              "      flex-wrap:wrap;\n",
              "      gap: 12px;\n",
              "    }\n",
              "\n",
              "    .colab-df-convert {\n",
              "      background-color: #E8F0FE;\n",
              "      border: none;\n",
              "      border-radius: 50%;\n",
              "      cursor: pointer;\n",
              "      display: none;\n",
              "      fill: #1967D2;\n",
              "      height: 32px;\n",
              "      padding: 0 0 0 0;\n",
              "      width: 32px;\n",
              "    }\n",
              "\n",
              "    .colab-df-convert:hover {\n",
              "      background-color: #E2EBFA;\n",
              "      box-shadow: 0px 1px 2px rgba(60, 64, 67, 0.3), 0px 1px 3px 1px rgba(60, 64, 67, 0.15);\n",
              "      fill: #174EA6;\n",
              "    }\n",
              "\n",
              "    [theme=dark] .colab-df-convert {\n",
              "      background-color: #3B4455;\n",
              "      fill: #D2E3FC;\n",
              "    }\n",
              "\n",
              "    [theme=dark] .colab-df-convert:hover {\n",
              "      background-color: #434B5C;\n",
              "      box-shadow: 0px 1px 3px 1px rgba(0, 0, 0, 0.15);\n",
              "      filter: drop-shadow(0px 1px 2px rgba(0, 0, 0, 0.3));\n",
              "      fill: #FFFFFF;\n",
              "    }\n",
              "  </style>\n",
              "\n",
              "      <script>\n",
              "        const buttonEl =\n",
              "          document.querySelector('#df-993b052b-4a1d-4b87-8cf5-3727a0bdc5c5 button.colab-df-convert');\n",
              "        buttonEl.style.display =\n",
              "          google.colab.kernel.accessAllowed ? 'block' : 'none';\n",
              "\n",
              "        async function convertToInteractive(key) {\n",
              "          const element = document.querySelector('#df-993b052b-4a1d-4b87-8cf5-3727a0bdc5c5');\n",
              "          const dataTable =\n",
              "            await google.colab.kernel.invokeFunction('convertToInteractive',\n",
              "                                                     [key], {});\n",
              "          if (!dataTable) return;\n",
              "\n",
              "          const docLinkHtml = 'Like what you see? Visit the ' +\n",
              "            '<a target=\"_blank\" href=https://colab.research.google.com/notebooks/data_table.ipynb>data table notebook</a>'\n",
              "            + ' to learn more about interactive tables.';\n",
              "          element.innerHTML = '';\n",
              "          dataTable['output_type'] = 'display_data';\n",
              "          await google.colab.output.renderOutput(dataTable, element);\n",
              "          const docLink = document.createElement('div');\n",
              "          docLink.innerHTML = docLinkHtml;\n",
              "          element.appendChild(docLink);\n",
              "        }\n",
              "      </script>\n",
              "    </div>\n",
              "  </div>\n"
            ],
            "text/plain": [
              "   fixed acidity  volatile acidity  citric acid  residual sugar  chlorides  \\\n",
              "0            7.4              0.70         0.00             1.9      0.076   \n",
              "1            7.8              0.88         0.00             2.6      0.098   \n",
              "2            7.8              0.76         0.04             2.3      0.092   \n",
              "3           11.2              0.28         0.56             1.9      0.075   \n",
              "4            7.4              0.70         0.00             1.9      0.076   \n",
              "\n",
              "   free sulfur dioxide  total sulfur dioxide  density    pH  sulphates  \\\n",
              "0                 11.0                  34.0   0.9978  3.51       0.56   \n",
              "1                 25.0                  67.0   0.9968  3.20       0.68   \n",
              "2                 15.0                  54.0   0.9970  3.26       0.65   \n",
              "3                 17.0                  60.0   0.9980  3.16       0.58   \n",
              "4                 11.0                  34.0   0.9978  3.51       0.56   \n",
              "\n",
              "   alcohol  quality  \n",
              "0      9.4        5  \n",
              "1      9.8        5  \n",
              "2      9.8        5  \n",
              "3      9.8        6  \n",
              "4      9.4        5  "
            ]
          },
          "execution_count": 4,
          "metadata": {},
          "output_type": "execute_result"
        }
      ],
      "source": [
        "#reading the file from first\n",
        "df.head()"
      ]
    },
    {
      "cell_type": "code",
      "execution_count": 5,
      "metadata": {
        "colab": {
          "base_uri": "https://localhost:8080/",
          "height": 267
        },
        "id": "2AsiSAfs3Nfq",
        "outputId": "856842c6-d299-4382-c9d5-e892df94cf0c"
      },
      "outputs": [
        {
          "data": {
            "text/html": [
              "\n",
              "\n",
              "  <div id=\"df-be126fac-5f63-41c2-a253-ba9fd9f02a8d\">\n",
              "    <div class=\"colab-df-container\">\n",
              "      <div>\n",
              "<style scoped>\n",
              "    .dataframe tbody tr th:only-of-type {\n",
              "        vertical-align: middle;\n",
              "    }\n",
              "\n",
              "    .dataframe tbody tr th {\n",
              "        vertical-align: top;\n",
              "    }\n",
              "\n",
              "    .dataframe thead th {\n",
              "        text-align: right;\n",
              "    }\n",
              "</style>\n",
              "<table border=\"1\" class=\"dataframe\">\n",
              "  <thead>\n",
              "    <tr style=\"text-align: right;\">\n",
              "      <th></th>\n",
              "      <th>fixed acidity</th>\n",
              "      <th>volatile acidity</th>\n",
              "      <th>citric acid</th>\n",
              "      <th>residual sugar</th>\n",
              "      <th>chlorides</th>\n",
              "      <th>free sulfur dioxide</th>\n",
              "      <th>total sulfur dioxide</th>\n",
              "      <th>density</th>\n",
              "      <th>pH</th>\n",
              "      <th>sulphates</th>\n",
              "      <th>alcohol</th>\n",
              "      <th>quality</th>\n",
              "    </tr>\n",
              "  </thead>\n",
              "  <tbody>\n",
              "    <tr>\n",
              "      <th>1594</th>\n",
              "      <td>6.2</td>\n",
              "      <td>0.600</td>\n",
              "      <td>0.08</td>\n",
              "      <td>2.0</td>\n",
              "      <td>0.090</td>\n",
              "      <td>32.0</td>\n",
              "      <td>44.0</td>\n",
              "      <td>0.99490</td>\n",
              "      <td>3.45</td>\n",
              "      <td>0.58</td>\n",
              "      <td>10.5</td>\n",
              "      <td>5</td>\n",
              "    </tr>\n",
              "    <tr>\n",
              "      <th>1595</th>\n",
              "      <td>5.9</td>\n",
              "      <td>0.550</td>\n",
              "      <td>0.10</td>\n",
              "      <td>2.2</td>\n",
              "      <td>0.062</td>\n",
              "      <td>39.0</td>\n",
              "      <td>51.0</td>\n",
              "      <td>0.99512</td>\n",
              "      <td>3.52</td>\n",
              "      <td>0.76</td>\n",
              "      <td>11.2</td>\n",
              "      <td>6</td>\n",
              "    </tr>\n",
              "    <tr>\n",
              "      <th>1596</th>\n",
              "      <td>6.3</td>\n",
              "      <td>0.510</td>\n",
              "      <td>0.13</td>\n",
              "      <td>2.3</td>\n",
              "      <td>0.076</td>\n",
              "      <td>29.0</td>\n",
              "      <td>40.0</td>\n",
              "      <td>0.99574</td>\n",
              "      <td>3.42</td>\n",
              "      <td>0.75</td>\n",
              "      <td>11.0</td>\n",
              "      <td>6</td>\n",
              "    </tr>\n",
              "    <tr>\n",
              "      <th>1597</th>\n",
              "      <td>5.9</td>\n",
              "      <td>0.645</td>\n",
              "      <td>0.12</td>\n",
              "      <td>2.0</td>\n",
              "      <td>0.075</td>\n",
              "      <td>32.0</td>\n",
              "      <td>44.0</td>\n",
              "      <td>0.99547</td>\n",
              "      <td>3.57</td>\n",
              "      <td>0.71</td>\n",
              "      <td>10.2</td>\n",
              "      <td>5</td>\n",
              "    </tr>\n",
              "    <tr>\n",
              "      <th>1598</th>\n",
              "      <td>6.0</td>\n",
              "      <td>0.310</td>\n",
              "      <td>0.47</td>\n",
              "      <td>3.6</td>\n",
              "      <td>0.067</td>\n",
              "      <td>18.0</td>\n",
              "      <td>42.0</td>\n",
              "      <td>0.99549</td>\n",
              "      <td>3.39</td>\n",
              "      <td>0.66</td>\n",
              "      <td>11.0</td>\n",
              "      <td>6</td>\n",
              "    </tr>\n",
              "  </tbody>\n",
              "</table>\n",
              "</div>\n",
              "      <button class=\"colab-df-convert\" onclick=\"convertToInteractive('df-be126fac-5f63-41c2-a253-ba9fd9f02a8d')\"\n",
              "              title=\"Convert this dataframe to an interactive table.\"\n",
              "              style=\"display:none;\">\n",
              "\n",
              "  <svg xmlns=\"http://www.w3.org/2000/svg\" height=\"24px\"viewBox=\"0 0 24 24\"\n",
              "       width=\"24px\">\n",
              "    <path d=\"M0 0h24v24H0V0z\" fill=\"none\"/>\n",
              "    <path d=\"M18.56 5.44l.94 2.06.94-2.06 2.06-.94-2.06-.94-.94-2.06-.94 2.06-2.06.94zm-11 1L8.5 8.5l.94-2.06 2.06-.94-2.06-.94L8.5 2.5l-.94 2.06-2.06.94zm10 10l.94 2.06.94-2.06 2.06-.94-2.06-.94-.94-2.06-.94 2.06-2.06.94z\"/><path d=\"M17.41 7.96l-1.37-1.37c-.4-.4-.92-.59-1.43-.59-.52 0-1.04.2-1.43.59L10.3 9.45l-7.72 7.72c-.78.78-.78 2.05 0 2.83L4 21.41c.39.39.9.59 1.41.59.51 0 1.02-.2 1.41-.59l7.78-7.78 2.81-2.81c.8-.78.8-2.07 0-2.86zM5.41 20L4 18.59l7.72-7.72 1.47 1.35L5.41 20z\"/>\n",
              "  </svg>\n",
              "      </button>\n",
              "\n",
              "\n",
              "\n",
              "    <div id=\"df-6a49e6cc-625d-4bba-b09a-eba9ce8731af\">\n",
              "      <button class=\"colab-df-quickchart\" onclick=\"quickchart('df-6a49e6cc-625d-4bba-b09a-eba9ce8731af')\"\n",
              "              title=\"Suggest charts.\"\n",
              "              style=\"display:none;\">\n",
              "\n",
              "<svg xmlns=\"http://www.w3.org/2000/svg\" height=\"24px\"viewBox=\"0 0 24 24\"\n",
              "     width=\"24px\">\n",
              "    <g>\n",
              "        <path d=\"M19 3H5c-1.1 0-2 .9-2 2v14c0 1.1.9 2 2 2h14c1.1 0 2-.9 2-2V5c0-1.1-.9-2-2-2zM9 17H7v-7h2v7zm4 0h-2V7h2v10zm4 0h-2v-4h2v4z\"/>\n",
              "    </g>\n",
              "</svg>\n",
              "      </button>\n",
              "    </div>\n",
              "\n",
              "<style>\n",
              "  .colab-df-quickchart {\n",
              "    background-color: #E8F0FE;\n",
              "    border: none;\n",
              "    border-radius: 50%;\n",
              "    cursor: pointer;\n",
              "    display: none;\n",
              "    fill: #1967D2;\n",
              "    height: 32px;\n",
              "    padding: 0 0 0 0;\n",
              "    width: 32px;\n",
              "  }\n",
              "\n",
              "  .colab-df-quickchart:hover {\n",
              "    background-color: #E2EBFA;\n",
              "    box-shadow: 0px 1px 2px rgba(60, 64, 67, 0.3), 0px 1px 3px 1px rgba(60, 64, 67, 0.15);\n",
              "    fill: #174EA6;\n",
              "  }\n",
              "\n",
              "  [theme=dark] .colab-df-quickchart {\n",
              "    background-color: #3B4455;\n",
              "    fill: #D2E3FC;\n",
              "  }\n",
              "\n",
              "  [theme=dark] .colab-df-quickchart:hover {\n",
              "    background-color: #434B5C;\n",
              "    box-shadow: 0px 1px 3px 1px rgba(0, 0, 0, 0.15);\n",
              "    filter: drop-shadow(0px 1px 2px rgba(0, 0, 0, 0.3));\n",
              "    fill: #FFFFFF;\n",
              "  }\n",
              "</style>\n",
              "\n",
              "    <script>\n",
              "      async function quickchart(key) {\n",
              "        const containerElement = document.querySelector('#' + key);\n",
              "        const charts = await google.colab.kernel.invokeFunction(\n",
              "            'suggestCharts', [key], {});\n",
              "      }\n",
              "    </script>\n",
              "\n",
              "\n",
              "      <script>\n",
              "\n",
              "function displayQuickchartButton(domScope) {\n",
              "  let quickchartButtonEl =\n",
              "    domScope.querySelector('#df-6a49e6cc-625d-4bba-b09a-eba9ce8731af button.colab-df-quickchart');\n",
              "  quickchartButtonEl.style.display =\n",
              "    google.colab.kernel.accessAllowed ? 'block' : 'none';\n",
              "}\n",
              "\n",
              "        displayQuickchartButton(document);\n",
              "      </script>\n",
              "      <style>\n",
              "    .colab-df-container {\n",
              "      display:flex;\n",
              "      flex-wrap:wrap;\n",
              "      gap: 12px;\n",
              "    }\n",
              "\n",
              "    .colab-df-convert {\n",
              "      background-color: #E8F0FE;\n",
              "      border: none;\n",
              "      border-radius: 50%;\n",
              "      cursor: pointer;\n",
              "      display: none;\n",
              "      fill: #1967D2;\n",
              "      height: 32px;\n",
              "      padding: 0 0 0 0;\n",
              "      width: 32px;\n",
              "    }\n",
              "\n",
              "    .colab-df-convert:hover {\n",
              "      background-color: #E2EBFA;\n",
              "      box-shadow: 0px 1px 2px rgba(60, 64, 67, 0.3), 0px 1px 3px 1px rgba(60, 64, 67, 0.15);\n",
              "      fill: #174EA6;\n",
              "    }\n",
              "\n",
              "    [theme=dark] .colab-df-convert {\n",
              "      background-color: #3B4455;\n",
              "      fill: #D2E3FC;\n",
              "    }\n",
              "\n",
              "    [theme=dark] .colab-df-convert:hover {\n",
              "      background-color: #434B5C;\n",
              "      box-shadow: 0px 1px 3px 1px rgba(0, 0, 0, 0.15);\n",
              "      filter: drop-shadow(0px 1px 2px rgba(0, 0, 0, 0.3));\n",
              "      fill: #FFFFFF;\n",
              "    }\n",
              "  </style>\n",
              "\n",
              "      <script>\n",
              "        const buttonEl =\n",
              "          document.querySelector('#df-be126fac-5f63-41c2-a253-ba9fd9f02a8d button.colab-df-convert');\n",
              "        buttonEl.style.display =\n",
              "          google.colab.kernel.accessAllowed ? 'block' : 'none';\n",
              "\n",
              "        async function convertToInteractive(key) {\n",
              "          const element = document.querySelector('#df-be126fac-5f63-41c2-a253-ba9fd9f02a8d');\n",
              "          const dataTable =\n",
              "            await google.colab.kernel.invokeFunction('convertToInteractive',\n",
              "                                                     [key], {});\n",
              "          if (!dataTable) return;\n",
              "\n",
              "          const docLinkHtml = 'Like what you see? Visit the ' +\n",
              "            '<a target=\"_blank\" href=https://colab.research.google.com/notebooks/data_table.ipynb>data table notebook</a>'\n",
              "            + ' to learn more about interactive tables.';\n",
              "          element.innerHTML = '';\n",
              "          dataTable['output_type'] = 'display_data';\n",
              "          await google.colab.output.renderOutput(dataTable, element);\n",
              "          const docLink = document.createElement('div');\n",
              "          docLink.innerHTML = docLinkHtml;\n",
              "          element.appendChild(docLink);\n",
              "        }\n",
              "      </script>\n",
              "    </div>\n",
              "  </div>\n"
            ],
            "text/plain": [
              "      fixed acidity  volatile acidity  citric acid  residual sugar  chlorides  \\\n",
              "1594            6.2             0.600         0.08             2.0      0.090   \n",
              "1595            5.9             0.550         0.10             2.2      0.062   \n",
              "1596            6.3             0.510         0.13             2.3      0.076   \n",
              "1597            5.9             0.645         0.12             2.0      0.075   \n",
              "1598            6.0             0.310         0.47             3.6      0.067   \n",
              "\n",
              "      free sulfur dioxide  total sulfur dioxide  density    pH  sulphates  \\\n",
              "1594                 32.0                  44.0  0.99490  3.45       0.58   \n",
              "1595                 39.0                  51.0  0.99512  3.52       0.76   \n",
              "1596                 29.0                  40.0  0.99574  3.42       0.75   \n",
              "1597                 32.0                  44.0  0.99547  3.57       0.71   \n",
              "1598                 18.0                  42.0  0.99549  3.39       0.66   \n",
              "\n",
              "      alcohol  quality  \n",
              "1594     10.5        5  \n",
              "1595     11.2        6  \n",
              "1596     11.0        6  \n",
              "1597     10.2        5  \n",
              "1598     11.0        6  "
            ]
          },
          "execution_count": 5,
          "metadata": {},
          "output_type": "execute_result"
        }
      ],
      "source": [
        "# reding the file from last\n",
        "df.tail()"
      ]
    },
    {
      "cell_type": "code",
      "execution_count": 6,
      "metadata": {
        "colab": {
          "base_uri": "https://localhost:8080/",
          "height": 399
        },
        "id": "x8t9SQqO3a07",
        "outputId": "f893b859-9d75-4e68-c537-aed4b3acbbbb"
      },
      "outputs": [
        {
          "data": {
            "text/html": [
              "\n",
              "\n",
              "  <div id=\"df-8f5e4a8b-8336-4c47-9bfc-49ca846bcf3f\">\n",
              "    <div class=\"colab-df-container\">\n",
              "      <div>\n",
              "<style scoped>\n",
              "    .dataframe tbody tr th:only-of-type {\n",
              "        vertical-align: middle;\n",
              "    }\n",
              "\n",
              "    .dataframe tbody tr th {\n",
              "        vertical-align: top;\n",
              "    }\n",
              "\n",
              "    .dataframe thead th {\n",
              "        text-align: right;\n",
              "    }\n",
              "</style>\n",
              "<table border=\"1\" class=\"dataframe\">\n",
              "  <thead>\n",
              "    <tr style=\"text-align: right;\">\n",
              "      <th></th>\n",
              "      <th>fixed acidity</th>\n",
              "      <th>volatile acidity</th>\n",
              "      <th>citric acid</th>\n",
              "      <th>residual sugar</th>\n",
              "      <th>chlorides</th>\n",
              "      <th>free sulfur dioxide</th>\n",
              "      <th>total sulfur dioxide</th>\n",
              "      <th>density</th>\n",
              "      <th>pH</th>\n",
              "      <th>sulphates</th>\n",
              "      <th>alcohol</th>\n",
              "      <th>quality</th>\n",
              "    </tr>\n",
              "  </thead>\n",
              "  <tbody>\n",
              "    <tr>\n",
              "      <th>count</th>\n",
              "      <td>1599.000000</td>\n",
              "      <td>1599.000000</td>\n",
              "      <td>1599.000000</td>\n",
              "      <td>1599.000000</td>\n",
              "      <td>1599.000000</td>\n",
              "      <td>1599.000000</td>\n",
              "      <td>1599.000000</td>\n",
              "      <td>1599.000000</td>\n",
              "      <td>1599.000000</td>\n",
              "      <td>1599.000000</td>\n",
              "      <td>1599.000000</td>\n",
              "      <td>1599.000000</td>\n",
              "    </tr>\n",
              "    <tr>\n",
              "      <th>mean</th>\n",
              "      <td>8.319637</td>\n",
              "      <td>0.527821</td>\n",
              "      <td>0.270976</td>\n",
              "      <td>2.538806</td>\n",
              "      <td>0.087467</td>\n",
              "      <td>15.874922</td>\n",
              "      <td>46.467792</td>\n",
              "      <td>0.996747</td>\n",
              "      <td>3.311113</td>\n",
              "      <td>0.658149</td>\n",
              "      <td>10.422983</td>\n",
              "      <td>5.636023</td>\n",
              "    </tr>\n",
              "    <tr>\n",
              "      <th>std</th>\n",
              "      <td>1.741096</td>\n",
              "      <td>0.179060</td>\n",
              "      <td>0.194801</td>\n",
              "      <td>1.409928</td>\n",
              "      <td>0.047065</td>\n",
              "      <td>10.460157</td>\n",
              "      <td>32.895324</td>\n",
              "      <td>0.001887</td>\n",
              "      <td>0.154386</td>\n",
              "      <td>0.169507</td>\n",
              "      <td>1.065668</td>\n",
              "      <td>0.807569</td>\n",
              "    </tr>\n",
              "    <tr>\n",
              "      <th>min</th>\n",
              "      <td>4.600000</td>\n",
              "      <td>0.120000</td>\n",
              "      <td>0.000000</td>\n",
              "      <td>0.900000</td>\n",
              "      <td>0.012000</td>\n",
              "      <td>1.000000</td>\n",
              "      <td>6.000000</td>\n",
              "      <td>0.990070</td>\n",
              "      <td>2.740000</td>\n",
              "      <td>0.330000</td>\n",
              "      <td>8.400000</td>\n",
              "      <td>3.000000</td>\n",
              "    </tr>\n",
              "    <tr>\n",
              "      <th>25%</th>\n",
              "      <td>7.100000</td>\n",
              "      <td>0.390000</td>\n",
              "      <td>0.090000</td>\n",
              "      <td>1.900000</td>\n",
              "      <td>0.070000</td>\n",
              "      <td>7.000000</td>\n",
              "      <td>22.000000</td>\n",
              "      <td>0.995600</td>\n",
              "      <td>3.210000</td>\n",
              "      <td>0.550000</td>\n",
              "      <td>9.500000</td>\n",
              "      <td>5.000000</td>\n",
              "    </tr>\n",
              "    <tr>\n",
              "      <th>50%</th>\n",
              "      <td>7.900000</td>\n",
              "      <td>0.520000</td>\n",
              "      <td>0.260000</td>\n",
              "      <td>2.200000</td>\n",
              "      <td>0.079000</td>\n",
              "      <td>14.000000</td>\n",
              "      <td>38.000000</td>\n",
              "      <td>0.996750</td>\n",
              "      <td>3.310000</td>\n",
              "      <td>0.620000</td>\n",
              "      <td>10.200000</td>\n",
              "      <td>6.000000</td>\n",
              "    </tr>\n",
              "    <tr>\n",
              "      <th>75%</th>\n",
              "      <td>9.200000</td>\n",
              "      <td>0.640000</td>\n",
              "      <td>0.420000</td>\n",
              "      <td>2.600000</td>\n",
              "      <td>0.090000</td>\n",
              "      <td>21.000000</td>\n",
              "      <td>62.000000</td>\n",
              "      <td>0.997835</td>\n",
              "      <td>3.400000</td>\n",
              "      <td>0.730000</td>\n",
              "      <td>11.100000</td>\n",
              "      <td>6.000000</td>\n",
              "    </tr>\n",
              "    <tr>\n",
              "      <th>max</th>\n",
              "      <td>15.900000</td>\n",
              "      <td>1.580000</td>\n",
              "      <td>1.000000</td>\n",
              "      <td>15.500000</td>\n",
              "      <td>0.611000</td>\n",
              "      <td>72.000000</td>\n",
              "      <td>289.000000</td>\n",
              "      <td>1.003690</td>\n",
              "      <td>4.010000</td>\n",
              "      <td>2.000000</td>\n",
              "      <td>14.900000</td>\n",
              "      <td>8.000000</td>\n",
              "    </tr>\n",
              "  </tbody>\n",
              "</table>\n",
              "</div>\n",
              "      <button class=\"colab-df-convert\" onclick=\"convertToInteractive('df-8f5e4a8b-8336-4c47-9bfc-49ca846bcf3f')\"\n",
              "              title=\"Convert this dataframe to an interactive table.\"\n",
              "              style=\"display:none;\">\n",
              "\n",
              "  <svg xmlns=\"http://www.w3.org/2000/svg\" height=\"24px\"viewBox=\"0 0 24 24\"\n",
              "       width=\"24px\">\n",
              "    <path d=\"M0 0h24v24H0V0z\" fill=\"none\"/>\n",
              "    <path d=\"M18.56 5.44l.94 2.06.94-2.06 2.06-.94-2.06-.94-.94-2.06-.94 2.06-2.06.94zm-11 1L8.5 8.5l.94-2.06 2.06-.94-2.06-.94L8.5 2.5l-.94 2.06-2.06.94zm10 10l.94 2.06.94-2.06 2.06-.94-2.06-.94-.94-2.06-.94 2.06-2.06.94z\"/><path d=\"M17.41 7.96l-1.37-1.37c-.4-.4-.92-.59-1.43-.59-.52 0-1.04.2-1.43.59L10.3 9.45l-7.72 7.72c-.78.78-.78 2.05 0 2.83L4 21.41c.39.39.9.59 1.41.59.51 0 1.02-.2 1.41-.59l7.78-7.78 2.81-2.81c.8-.78.8-2.07 0-2.86zM5.41 20L4 18.59l7.72-7.72 1.47 1.35L5.41 20z\"/>\n",
              "  </svg>\n",
              "      </button>\n",
              "\n",
              "\n",
              "\n",
              "    <div id=\"df-e9a6787b-d291-4b64-9c06-5ae44a36ade2\">\n",
              "      <button class=\"colab-df-quickchart\" onclick=\"quickchart('df-e9a6787b-d291-4b64-9c06-5ae44a36ade2')\"\n",
              "              title=\"Suggest charts.\"\n",
              "              style=\"display:none;\">\n",
              "\n",
              "<svg xmlns=\"http://www.w3.org/2000/svg\" height=\"24px\"viewBox=\"0 0 24 24\"\n",
              "     width=\"24px\">\n",
              "    <g>\n",
              "        <path d=\"M19 3H5c-1.1 0-2 .9-2 2v14c0 1.1.9 2 2 2h14c1.1 0 2-.9 2-2V5c0-1.1-.9-2-2-2zM9 17H7v-7h2v7zm4 0h-2V7h2v10zm4 0h-2v-4h2v4z\"/>\n",
              "    </g>\n",
              "</svg>\n",
              "      </button>\n",
              "    </div>\n",
              "\n",
              "<style>\n",
              "  .colab-df-quickchart {\n",
              "    background-color: #E8F0FE;\n",
              "    border: none;\n",
              "    border-radius: 50%;\n",
              "    cursor: pointer;\n",
              "    display: none;\n",
              "    fill: #1967D2;\n",
              "    height: 32px;\n",
              "    padding: 0 0 0 0;\n",
              "    width: 32px;\n",
              "  }\n",
              "\n",
              "  .colab-df-quickchart:hover {\n",
              "    background-color: #E2EBFA;\n",
              "    box-shadow: 0px 1px 2px rgba(60, 64, 67, 0.3), 0px 1px 3px 1px rgba(60, 64, 67, 0.15);\n",
              "    fill: #174EA6;\n",
              "  }\n",
              "\n",
              "  [theme=dark] .colab-df-quickchart {\n",
              "    background-color: #3B4455;\n",
              "    fill: #D2E3FC;\n",
              "  }\n",
              "\n",
              "  [theme=dark] .colab-df-quickchart:hover {\n",
              "    background-color: #434B5C;\n",
              "    box-shadow: 0px 1px 3px 1px rgba(0, 0, 0, 0.15);\n",
              "    filter: drop-shadow(0px 1px 2px rgba(0, 0, 0, 0.3));\n",
              "    fill: #FFFFFF;\n",
              "  }\n",
              "</style>\n",
              "\n",
              "    <script>\n",
              "      async function quickchart(key) {\n",
              "        const containerElement = document.querySelector('#' + key);\n",
              "        const charts = await google.colab.kernel.invokeFunction(\n",
              "            'suggestCharts', [key], {});\n",
              "      }\n",
              "    </script>\n",
              "\n",
              "\n",
              "      <script>\n",
              "\n",
              "function displayQuickchartButton(domScope) {\n",
              "  let quickchartButtonEl =\n",
              "    domScope.querySelector('#df-e9a6787b-d291-4b64-9c06-5ae44a36ade2 button.colab-df-quickchart');\n",
              "  quickchartButtonEl.style.display =\n",
              "    google.colab.kernel.accessAllowed ? 'block' : 'none';\n",
              "}\n",
              "\n",
              "        displayQuickchartButton(document);\n",
              "      </script>\n",
              "      <style>\n",
              "    .colab-df-container {\n",
              "      display:flex;\n",
              "      flex-wrap:wrap;\n",
              "      gap: 12px;\n",
              "    }\n",
              "\n",
              "    .colab-df-convert {\n",
              "      background-color: #E8F0FE;\n",
              "      border: none;\n",
              "      border-radius: 50%;\n",
              "      cursor: pointer;\n",
              "      display: none;\n",
              "      fill: #1967D2;\n",
              "      height: 32px;\n",
              "      padding: 0 0 0 0;\n",
              "      width: 32px;\n",
              "    }\n",
              "\n",
              "    .colab-df-convert:hover {\n",
              "      background-color: #E2EBFA;\n",
              "      box-shadow: 0px 1px 2px rgba(60, 64, 67, 0.3), 0px 1px 3px 1px rgba(60, 64, 67, 0.15);\n",
              "      fill: #174EA6;\n",
              "    }\n",
              "\n",
              "    [theme=dark] .colab-df-convert {\n",
              "      background-color: #3B4455;\n",
              "      fill: #D2E3FC;\n",
              "    }\n",
              "\n",
              "    [theme=dark] .colab-df-convert:hover {\n",
              "      background-color: #434B5C;\n",
              "      box-shadow: 0px 1px 3px 1px rgba(0, 0, 0, 0.15);\n",
              "      filter: drop-shadow(0px 1px 2px rgba(0, 0, 0, 0.3));\n",
              "      fill: #FFFFFF;\n",
              "    }\n",
              "  </style>\n",
              "\n",
              "      <script>\n",
              "        const buttonEl =\n",
              "          document.querySelector('#df-8f5e4a8b-8336-4c47-9bfc-49ca846bcf3f button.colab-df-convert');\n",
              "        buttonEl.style.display =\n",
              "          google.colab.kernel.accessAllowed ? 'block' : 'none';\n",
              "\n",
              "        async function convertToInteractive(key) {\n",
              "          const element = document.querySelector('#df-8f5e4a8b-8336-4c47-9bfc-49ca846bcf3f');\n",
              "          const dataTable =\n",
              "            await google.colab.kernel.invokeFunction('convertToInteractive',\n",
              "                                                     [key], {});\n",
              "          if (!dataTable) return;\n",
              "\n",
              "          const docLinkHtml = 'Like what you see? Visit the ' +\n",
              "            '<a target=\"_blank\" href=https://colab.research.google.com/notebooks/data_table.ipynb>data table notebook</a>'\n",
              "            + ' to learn more about interactive tables.';\n",
              "          element.innerHTML = '';\n",
              "          dataTable['output_type'] = 'display_data';\n",
              "          await google.colab.output.renderOutput(dataTable, element);\n",
              "          const docLink = document.createElement('div');\n",
              "          docLink.innerHTML = docLinkHtml;\n",
              "          element.appendChild(docLink);\n",
              "        }\n",
              "      </script>\n",
              "    </div>\n",
              "  </div>\n"
            ],
            "text/plain": [
              "       fixed acidity  volatile acidity  citric acid  residual sugar  \\\n",
              "count    1599.000000       1599.000000  1599.000000     1599.000000   \n",
              "mean        8.319637          0.527821     0.270976        2.538806   \n",
              "std         1.741096          0.179060     0.194801        1.409928   \n",
              "min         4.600000          0.120000     0.000000        0.900000   \n",
              "25%         7.100000          0.390000     0.090000        1.900000   \n",
              "50%         7.900000          0.520000     0.260000        2.200000   \n",
              "75%         9.200000          0.640000     0.420000        2.600000   \n",
              "max        15.900000          1.580000     1.000000       15.500000   \n",
              "\n",
              "         chlorides  free sulfur dioxide  total sulfur dioxide      density  \\\n",
              "count  1599.000000          1599.000000           1599.000000  1599.000000   \n",
              "mean      0.087467            15.874922             46.467792     0.996747   \n",
              "std       0.047065            10.460157             32.895324     0.001887   \n",
              "min       0.012000             1.000000              6.000000     0.990070   \n",
              "25%       0.070000             7.000000             22.000000     0.995600   \n",
              "50%       0.079000            14.000000             38.000000     0.996750   \n",
              "75%       0.090000            21.000000             62.000000     0.997835   \n",
              "max       0.611000            72.000000            289.000000     1.003690   \n",
              "\n",
              "                pH    sulphates      alcohol      quality  \n",
              "count  1599.000000  1599.000000  1599.000000  1599.000000  \n",
              "mean      3.311113     0.658149    10.422983     5.636023  \n",
              "std       0.154386     0.169507     1.065668     0.807569  \n",
              "min       2.740000     0.330000     8.400000     3.000000  \n",
              "25%       3.210000     0.550000     9.500000     5.000000  \n",
              "50%       3.310000     0.620000    10.200000     6.000000  \n",
              "75%       3.400000     0.730000    11.100000     6.000000  \n",
              "max       4.010000     2.000000    14.900000     8.000000  "
            ]
          },
          "execution_count": 6,
          "metadata": {},
          "output_type": "execute_result"
        }
      ],
      "source": [
        "#returns description of the data\n",
        "df.describe()"
      ]
    },
    {
      "cell_type": "code",
      "execution_count": 7,
      "metadata": {
        "id": "Cl6vO1fs6Q-t"
      },
      "outputs": [],
      "source": [
        "from sklearn.model_selection import train_test_split"
      ]
    },
    {
      "cell_type": "code",
      "execution_count": 9,
      "metadata": {
        "id": "hxJXzw1i7GNy"
      },
      "outputs": [],
      "source": [
        "X = df.drop(['quality'], axis=1)\n",
        "y = df['quality']\n",
        "#splitting the dataset into two-train(.5) & temporary cases(.5)\n",
        "X_train, X_temp, y_train, y_temp = train_test_split(X, y, test_size=0.5, random_state=42)"
      ]
    },
    {
      "cell_type": "code",
      "execution_count": null,
      "metadata": {
        "colab": {
          "base_uri": "https://localhost:8080/"
        },
        "id": "QTkZCeBJ-QDt",
        "outputId": "a50f32af-9e66-4e7f-c4f3-ca103a05d57c"
      },
      "outputs": [
        {
          "name": "stdout",
          "output_type": "stream",
          "text": [
            "      fixed acidity  volatile acidity  citric acid  residual sugar  chlorides  \\\n",
            "0               7.4             0.700         0.00             1.9      0.076   \n",
            "1               7.8             0.880         0.00             2.6      0.098   \n",
            "2               7.8             0.760         0.04             2.3      0.092   \n",
            "3              11.2             0.280         0.56             1.9      0.075   \n",
            "4               7.4             0.700         0.00             1.9      0.076   \n",
            "...             ...               ...          ...             ...        ...   \n",
            "1594            6.2             0.600         0.08             2.0      0.090   \n",
            "1595            5.9             0.550         0.10             2.2      0.062   \n",
            "1596            6.3             0.510         0.13             2.3      0.076   \n",
            "1597            5.9             0.645         0.12             2.0      0.075   \n",
            "1598            6.0             0.310         0.47             3.6      0.067   \n",
            "\n",
            "      free sulfur dioxide  total sulfur dioxide  density    pH  sulphates  \\\n",
            "0                    11.0                  34.0  0.99780  3.51       0.56   \n",
            "1                    25.0                  67.0  0.99680  3.20       0.68   \n",
            "2                    15.0                  54.0  0.99700  3.26       0.65   \n",
            "3                    17.0                  60.0  0.99800  3.16       0.58   \n",
            "4                    11.0                  34.0  0.99780  3.51       0.56   \n",
            "...                   ...                   ...      ...   ...        ...   \n",
            "1594                 32.0                  44.0  0.99490  3.45       0.58   \n",
            "1595                 39.0                  51.0  0.99512  3.52       0.76   \n",
            "1596                 29.0                  40.0  0.99574  3.42       0.75   \n",
            "1597                 32.0                  44.0  0.99547  3.57       0.71   \n",
            "1598                 18.0                  42.0  0.99549  3.39       0.66   \n",
            "\n",
            "      alcohol  \n",
            "0         9.4  \n",
            "1         9.8  \n",
            "2         9.8  \n",
            "3         9.8  \n",
            "4         9.4  \n",
            "...       ...  \n",
            "1594     10.5  \n",
            "1595     11.2  \n",
            "1596     11.0  \n",
            "1597     10.2  \n",
            "1598     11.0  \n",
            "\n",
            "[1599 rows x 11 columns]\n"
          ]
        }
      ],
      "source": [
        "print(X)"
      ]
    },
    {
      "cell_type": "code",
      "execution_count": 10,
      "metadata": {
        "id": "Ri14O_0X-nOR"
      },
      "outputs": [],
      "source": [
        "#30% for validation and 20% for testing\n",
        "X_test, X_validate, y_test, y_validate = train_test_split(X_temp, y_temp, test_size=0.6, random_state=42)"
      ]
    },
    {
      "cell_type": "code",
      "execution_count": 11,
      "metadata": {
        "colab": {
          "base_uri": "https://localhost:8080/"
        },
        "id": "V4PJhwbK-R3B",
        "outputId": "436e58da-ca73-4235-8f20-8b108d3eff68"
      },
      "outputs": [
        {
          "data": {
            "text/plain": [
              "(799, 11)"
            ]
          },
          "execution_count": 11,
          "metadata": {},
          "output_type": "execute_result"
        }
      ],
      "source": [
        "#to get number of rows and columns\n",
        "X_train.shape"
      ]
    },
    {
      "cell_type": "code",
      "execution_count": 12,
      "metadata": {
        "colab": {
          "base_uri": "https://localhost:8080/"
        },
        "id": "k8BPvwyZ_MfR",
        "outputId": "5269be4e-8bee-4012-acf8-37243da638be"
      },
      "outputs": [
        {
          "data": {
            "text/plain": [
              "(480, 11)"
            ]
          },
          "execution_count": 12,
          "metadata": {},
          "output_type": "execute_result"
        }
      ],
      "source": [
        "X_validate.shape"
      ]
    },
    {
      "cell_type": "code",
      "execution_count": 13,
      "metadata": {
        "colab": {
          "base_uri": "https://localhost:8080/"
        },
        "id": "8cU4_VmU_Zn1",
        "outputId": "c0f00115-5387-4245-b918-8718f37e77be"
      },
      "outputs": [
        {
          "data": {
            "text/plain": [
              "(320, 11)"
            ]
          },
          "execution_count": 13,
          "metadata": {},
          "output_type": "execute_result"
        }
      ],
      "source": [
        "X_test.shape"
      ]
    },
    {
      "cell_type": "code",
      "execution_count": 14,
      "metadata": {
        "id": "xl1MSCsv_7GW"
      },
      "outputs": [],
      "source": [
        "import numpy as np\n",
        "#taking transpose of x_train\n",
        "transpose = (np.transpose(X_train))"
      ]
    },
    {
      "cell_type": "code",
      "execution_count": 15,
      "metadata": {
        "colab": {
          "base_uri": "https://localhost:8080/"
        },
        "id": "_65XoAgxNZdU",
        "outputId": "165f5a1a-eb99-428c-ad12-f7b45811c525"
      },
      "outputs": [
        {
          "name": "stdout",
          "output_type": "stream",
          "text": [
            "                          1097     110       943      42       746      125   \\\n",
            "fixed acidity          8.60000   7.8000   9.80000   7.5000   8.2000   9.0000   \n",
            "volatile acidity       0.52000   0.5600   0.50000   0.4900   0.3400   0.6200   \n",
            "citric acid            0.38000   0.1900   0.34000   0.2000   0.3800   0.0400   \n",
            "residual sugar         1.50000   1.8000   2.30000   2.6000   2.5000   1.9000   \n",
            "chlorides              0.09600   0.1040   0.09400   0.3320   0.0800   0.1460   \n",
            "free sulfur dioxide    5.00000  12.0000  10.00000   8.0000  12.0000  27.0000   \n",
            "total sulfur dioxide  18.00000  47.0000  45.00000  14.0000  57.0000  90.0000   \n",
            "density                0.99666   0.9964   0.99864   0.9968   0.9978   0.9984   \n",
            "pH                     3.20000   3.1900   3.24000   3.2100   3.3000   3.1600   \n",
            "sulphates              0.52000   0.9300   0.60000   0.9000   0.4700   0.7000   \n",
            "alcohol                9.40000   9.5000   9.70000  10.5000   9.0000   9.4000   \n",
            "\n",
            "                          204       930      52        1273  ...      1238  \\\n",
            "fixed acidity          7.00000   6.60000   6.6000   7.50000  ...   8.10000   \n",
            "volatile acidity       0.43000   0.61000   0.5000   0.58000  ...   0.73000   \n",
            "citric acid            0.36000   0.01000   0.0400   0.20000  ...   0.00000   \n",
            "residual sugar         1.60000   1.90000   2.1000   2.00000  ...   2.50000   \n",
            "chlorides              0.08900   0.08000   0.0680   0.07300  ...   0.08100   \n",
            "free sulfur dioxide   14.00000   8.00000   6.0000  34.00000  ...  12.00000   \n",
            "total sulfur dioxide  37.00000  25.00000  14.0000  44.00000  ...  24.00000   \n",
            "density                0.99615   0.99746   0.9955   0.99494  ...   0.99798   \n",
            "pH                     3.34000   3.69000   3.3900   3.10000  ...   3.38000   \n",
            "sulphates              0.56000   0.73000   0.6400   0.43000  ...   0.46000   \n",
            "alcohol                9.20000  10.50000   9.4000   9.30000  ...   9.60000   \n",
            "\n",
            "                         466      121       1044      1095     1130      1294  \\\n",
            "fixed acidity         10.3000   8.8000   6.40000   9.40000   9.1000   8.20000   \n",
            "volatile acidity       0.5000   0.5500   0.39000   0.40000   0.6000   0.63500   \n",
            "citric acid            0.4200   0.0400   0.33000   0.47000   0.0000   0.10000   \n",
            "residual sugar         2.0000   2.2000   3.30000   2.50000   1.9000   2.10000   \n",
            "chlorides              0.0690   0.1190   0.04600   0.08700   0.0580   0.07300   \n",
            "free sulfur dioxide   21.0000  14.0000  12.00000   6.00000   5.0000  25.00000   \n",
            "total sulfur dioxide  51.0000  56.0000  53.00000  20.00000  10.0000  60.00000   \n",
            "density                0.9982   0.9962   0.99294   0.99772   0.9977   0.99638   \n",
            "pH                     3.1600   3.2100   3.36000   3.15000   3.1800   3.29000   \n",
            "sulphates              0.7200   0.6000   0.62000   0.50000   0.6300   0.75000   \n",
            "alcohol               11.5000  10.9000  12.20000  10.50000  10.4000  10.90000   \n",
            "\n",
            "                          860       1459     1126  \n",
            "fixed acidity          7.20000   7.90000   5.8000  \n",
            "volatile acidity       0.62000   0.20000   0.2900  \n",
            "citric acid            0.06000   0.35000   0.2600  \n",
            "residual sugar         2.70000   1.70000   1.7000  \n",
            "chlorides              0.07700   0.05400   0.0630  \n",
            "free sulfur dioxide   15.00000   7.00000   3.0000  \n",
            "total sulfur dioxide  85.00000  15.00000  11.0000  \n",
            "density                0.99746   0.99458   0.9915  \n",
            "pH                     3.51000   3.32000   3.3900  \n",
            "sulphates              0.54000   0.80000   0.5400  \n",
            "alcohol                9.50000  11.90000  13.5000  \n",
            "\n",
            "[11 rows x 799 columns]\n"
          ]
        }
      ],
      "source": [
        "print(transpose)"
      ]
    },
    {
      "cell_type": "code",
      "execution_count": 16,
      "metadata": {
        "id": "ZMM94OVpNbIc"
      },
      "outputs": [],
      "source": [
        "#inverse=(X^TX)^-1\n",
        "inverse = np.linalg.inv(transpose@X_train)"
      ]
    },
    {
      "cell_type": "code",
      "execution_count": 17,
      "metadata": {
        "colab": {
          "base_uri": "https://localhost:8080/"
        },
        "id": "BcjYK35kPTKw",
        "outputId": "1f2165d6-1324-4934-9214-5a28641a38a6"
      },
      "outputs": [
        {
          "name": "stdout",
          "output_type": "stream",
          "text": [
            "(11, 11)\n"
          ]
        }
      ],
      "source": [
        "print(inverse.shape)"
      ]
    },
    {
      "cell_type": "code",
      "execution_count": 18,
      "metadata": {
        "id": "lOBZLQXePU4e"
      },
      "outputs": [],
      "source": [
        "#theta=(X^tX)^(-1) Xt y\n",
        "theta=(inverse@transpose@y_train)"
      ]
    },
    {
      "cell_type": "code",
      "execution_count": 19,
      "metadata": {
        "colab": {
          "base_uri": "https://localhost:8080/"
        },
        "id": "rpM8P5Eo4ed5",
        "outputId": "c5244e7c-804b-4ff8-cb49-755f10cc9071"
      },
      "outputs": [
        {
          "name": "stdout",
          "output_type": "stream",
          "text": [
            "(11,)\n"
          ]
        }
      ],
      "source": [
        "print(theta.shape)"
      ]
    },
    {
      "cell_type": "code",
      "execution_count": 20,
      "metadata": {
        "colab": {
          "base_uri": "https://localhost:8080/"
        },
        "id": "QbN2FJAOP2p9",
        "outputId": "cf118651-fdcb-4ab1-e4fd-17cce82671b4"
      },
      "outputs": [
        {
          "name": "stdout",
          "output_type": "stream",
          "text": [
            "(480,)\n"
          ]
        }
      ],
      "source": [
        "#y_hat = X.theta\n",
        "#theta=theta[:,np.newaxis]\n",
        "y=np.dot(X_validate, theta)\n",
        "print(y.shape)"
      ]
    },
    {
      "cell_type": "code",
      "execution_count": 21,
      "metadata": {
        "id": "a0n1_y5URUAz"
      },
      "outputs": [],
      "source": [
        "# R^2=1-{(SS_res)/(SS_tot)}=1-{(y_validate-y)^2/(y_validate-mean(y))^2}\n",
        "#y=list(y)\n",
        "SS=np.sum(np.square(y_validate-y.flatten()))"
      ]
    },
    {
      "cell_type": "code",
      "execution_count": 22,
      "metadata": {
        "id": "yuWIngNASi86"
      },
      "outputs": [],
      "source": [
        "SE=np.sum(np.square(y_validate-[np.mean(y_validate)]*480))"
      ]
    },
    {
      "cell_type": "code",
      "execution_count": 23,
      "metadata": {
        "colab": {
          "base_uri": "https://localhost:8080/"
        },
        "id": "bTtTKrFHUpF4",
        "outputId": "6b1e570a-4cce-4b3a-eb21-63332e1c0ade"
      },
      "outputs": [
        {
          "name": "stdout",
          "output_type": "stream",
          "text": [
            "210.59393661675384 326.08125\n"
          ]
        }
      ],
      "source": [
        "print(SS,SE)"
      ]
    },
    {
      "cell_type": "code",
      "execution_count": 24,
      "metadata": {
        "id": "3tyGE2FgUvT-"
      },
      "outputs": [],
      "source": [
        "#R_squared=1-(SS/SE)\n",
        "R_square=1-(SS/SE)"
      ]
    },
    {
      "cell_type": "code",
      "execution_count": 25,
      "metadata": {
        "colab": {
          "base_uri": "https://localhost:8080/"
        },
        "id": "QxQnT18e6jgQ",
        "outputId": "23b9a54a-e46a-41d5-a682-e3c8ff093bc2"
      },
      "outputs": [
        {
          "name": "stdout",
          "output_type": "stream",
          "text": [
            "0.35416729230290356\n"
          ]
        }
      ],
      "source": [
        "print(R_square)"
      ]
    },
    {
      "cell_type": "code",
      "execution_count": 26,
      "metadata": {
        "colab": {
          "base_uri": "https://localhost:8080/"
        },
        "id": "_DtjkYwhKfN3",
        "outputId": "1cb296c3-c3d9-4f96-bb0e-bb993e1d7837"
      },
      "outputs": [
        {
          "name": "stdout",
          "output_type": "stream",
          "text": [
            "(320,)\n"
          ]
        }
      ],
      "source": [
        "y=np.dot(X_test, theta)\n",
        "print(y.shape)"
      ]
    },
    {
      "cell_type": "code",
      "execution_count": 27,
      "metadata": {
        "id": "vt5S_I1S6mcK"
      },
      "outputs": [],
      "source": [
        "SS_test=np.sum(np.square(y_test-y.flatten()))\n"
      ]
    },
    {
      "cell_type": "code",
      "execution_count": 28,
      "metadata": {
        "colab": {
          "base_uri": "https://localhost:8080/"
        },
        "id": "lKcTfwAp8kme",
        "outputId": "aac29570-246a-4a91-a3ed-263ee0f15e94"
      },
      "outputs": [
        {
          "data": {
            "text/plain": [
              "(320,)"
            ]
          },
          "execution_count": 28,
          "metadata": {},
          "output_type": "execute_result"
        }
      ],
      "source": [
        "y_test.shape"
      ]
    },
    {
      "cell_type": "code",
      "execution_count": 29,
      "metadata": {
        "id": "SpP3pkIr8DKq"
      },
      "outputs": [],
      "source": [
        "SE_test=np.sum(np.square(y_test-[np.mean(y_test)]*320))"
      ]
    },
    {
      "cell_type": "code",
      "execution_count": 30,
      "metadata": {
        "colab": {
          "base_uri": "https://localhost:8080/"
        },
        "id": "e60SsHc08OdY",
        "outputId": "a1f3de0a-af14-44b8-efe7-63849a3bc7b9"
      },
      "outputs": [
        {
          "name": "stdout",
          "output_type": "stream",
          "text": [
            "R square error =  0.28830414844673735\n"
          ]
        }
      ],
      "source": [
        "#R-square->test_validation\n",
        "rsquare=(1-SS_test/SE_test)\n",
        "print(\"R square error = \",rsquare)"
      ]
    },
    {
      "cell_type": "code",
      "execution_count": 31,
      "metadata": {
        "id": "J7M-uxHA9JcZ"
      },
      "outputs": [],
      "source": [
        "#Mean Square Error\n",
        "#MSE=(1/n)\\summation((Y_i-Y_hat_i))^(-1)\n",
        "#for y_test\n",
        "a=np.sum(np.square(y_test-y.flatten()))"
      ]
    },
    {
      "cell_type": "code",
      "execution_count": 32,
      "metadata": {
        "colab": {
          "base_uri": "https://localhost:8080/"
        },
        "id": "z266W9UD_44V",
        "outputId": "cd3376fb-7a47-409d-aa72-fa005a0929da"
      },
      "outputs": [
        {
          "name": "stdout",
          "output_type": "stream",
          "text": [
            "144.03834415623595\n"
          ]
        }
      ],
      "source": [
        "print(a)"
      ]
    },
    {
      "cell_type": "code",
      "execution_count": 33,
      "metadata": {
        "colab": {
          "base_uri": "https://localhost:8080/"
        },
        "id": "1bw0QrPLAAYZ",
        "outputId": "fde378ce-ed81-4249-ef3d-568dc4a27c09"
      },
      "outputs": [
        {
          "name": "stdout",
          "output_type": "stream",
          "text": [
            "MSE =  0.15019639640900517\n"
          ]
        }
      ],
      "source": [
        "MSE=a/959\n",
        "print(\"MSE = \",MSE)"
      ]
    },
    {
      "cell_type": "code",
      "execution_count": 34,
      "metadata": {
        "colab": {
          "base_uri": "https://localhost:8080/"
        },
        "id": "fKEYUcgxA8za",
        "outputId": "436a9228-3695-406c-f3e7-602c22ebbffd"
      },
      "outputs": [
        {
          "name": "stdout",
          "output_type": "stream",
          "text": [
            "RMSE =  0.3875517983560458\n"
          ]
        }
      ],
      "source": [
        "rmse=np. sqrt(MSE)\n",
        "print(\"RMSE = \",rmse)"
      ]
    },
    {
      "cell_type": "code",
      "execution_count": 35,
      "metadata": {
        "colab": {
          "base_uri": "https://localhost:8080/",
          "height": 509
        },
        "id": "mOh1df4gBzYX",
        "outputId": "3f042dc7-902e-4256-fb51-1228b3c35017"
      },
      "outputs": [
        {
          "name": "stdout",
          "output_type": "stream",
          "text": [
            "[18.987795607844248, 18.34721468704775, 17.78608033037647, 17.24766074473886, 16.727457884549025, 16.224588577679352, 15.738438480175374, 15.268431135378012, 14.814011398596236, 14.37464363588851, 13.949810962841624, 13.539014577513468, 13.141773121656557, 12.757622064914177, 12.38611311087654, 12.026813624199697, 11.67930607803719, 11.343187521062518, 11.018069063386164, 10.70357538069582, 10.399344235972173, 10.10502601815586, 9.820283297163241, 9.5447903946701, 9.27823297010317, 9.02030762129911, 8.770721499309953, 8.529191936852463, 8.295446089916778, 8.069220592066946, 7.8502612209825156, 7.638322576806514, 7.433167771880455, 7.2345681314620585, 7.042302905035644, 6.856158987839104, 6.675930652244714, 6.501419288643903, 6.332433155498607, 6.168787138233789, 6.010302516657284, 5.8568067406042905, 5.708133213514609, 5.564121083661061, 5.424615042757613, 5.289465131685256, 5.158526553083176, 5.031659490561518, 4.908728934300939, 4.789604512812272, 4.674160330637863, 4.562274811783763, 4.453830548679565, 4.348714156469823, 4.246816132448001, 4.1480307204505715, 4.052255780035452, 3.959392660275094, 3.8693460780006883, 3.782024000339681, 3.697337531394429, 3.6152008029152563, 3.535530868826318, 3.458247603467801, 3.3832736034227433, 3.3105340928015234, 3.2399568318615013, 3.171472028843705, 3.1050122549126176, 3.0405123620891774, 2.977909404071009, 2.9171425598376626, 2.858153059942268, 2.800884115394528, 2.7452808490433074, 2.691290229370401, 2.6388610066101355, 2.5879436511125173, 2.5384902938705842, 2.4904546691353957, 2.443792059044827, 2.398459240194961, 2.3544144320854112, 2.311617247372297, 2.2700286438650057, 2.2296108782051003, 2.1903274611679344, 2.15214311452964, 2.1150237294441996, 2.078936326277253, 2.043849015845205, 2.009730962010013, 1.9765523455817868, 1.9442843294830507, 1.9128990251301297, 1.8823694599887262, 1.8526695462622504, 1.8237740506729598, 1.7956585652973565, 1.7682994794186886, 1.7416739523606797, 1.7157598872679123, 1.6905359057995035, 1.6659813237038998, 1.6420761272437479, 1.618800950440907, 1.5961370531127237, 1.574066299671715, 1.5525711386617975, 1.531634583005137, 1.5112401909346267, 1.4913720475878722, 1.4720147472394347, 1.4531533761488846, 1.4347734960030256, 1.4168611279314234, 1.399402737075076, 1.382385217688824, 1.365795878758754, 1.3496224301165105, 1.3338529690330938, 1.3184759672753121, 1.3034802586086722, 1.2888550267310446, 1.2745897936220192, 1.260674408293374, 1.2470990359266119, 1.2338541473840134, 1.2209305090801215, 1.2083191732010576, 1.1960114682594922, 1.183998989973527, 1.1722735924581822, 1.160827379718543, 1.1496526974340442, 1.1387421250237126, 1.1280884679825693, 1.1176847504797218, 1.1075242082090206, 1.097600281483477, 1.0879066085649338, 1.0784370192208075, 1.0691855284999825, 1.0601463307202308, 1.0513137936598003, 1.0426824529460628, 1.0342470066343774, 1.0260023099705537, 1.0179433703305412, 1.0100653423311845, 1.0023635231061183, 0.9948333477410656, 0.9874703848630125, 0.9802703323779328, 0.973229013351913, 0.9663423720307113, 0.95960646999297, 0.9530174824324478, 0.9465716945648202, 0.9402654981547425, 0.9340953881590273, 0.9280579594819169, 0.9221499038386072, 0.9163680067232715, 0.9107091444779951, 0.9051702814591466, 0.8997484672978323, 0.8944408342511981, 0.8892445946414617, 0.8841570383796584, 0.8791755305711975, 0.8742975092004232, 0.8695204828914695, 0.8648420287428042, 0.8602597902329339, 0.8557714751948382, 0.8513748538567895, 0.8470677569472876, 0.8428480738619212, 0.8387137508900505, 0.8346627894992666, 0.83069324467567, 0.8268032233180611, 0.8229908826842165, 0.8192544288874808, 0.8155921154419715, 0.8120022418547412, 0.8084831522633158, 0.8050332341170678, 0.8016509169009481, 0.7983346709001409, 0.795083006004266, 0.7918944705497919, 0.7887676501993762, 0.7857011668568908, 0.7826936776169291, 0.7797438737476448, 0.7768504797057968, 0.7740122521829309, 0.7712279791816445, 0.768496479120942, 0.7658165999696971, 0.7631872184072968, 0.7606072390105512, 0.7580755934660024, 0.7555912398067842, 0.7531531616732229, 0.7507603675963835, 0.7484118903038132, 0.7461067860467355, 0.7438441339479994, 0.7416230353700876, 0.7394426133025308, 0.7373020117680876, 0.7352003952470709, 0.7331369481192302, 0.7311108741226098, 0.7291213958288327, 0.7271677541342699, 0.7252492077665765, 0.7233650328060992, 0.7215145222216648, 0.7196969854202879, 0.717911747810346, 0.7161581503777809, 0.7144355492749139, 0.7127433154214606, 0.7110808341173556, 0.7094475046670075, 0.7078427400146151, 0.7062659663901943, 0.7047166229659676, 0.7031941615227892, 0.7016980461262851, 0.7002277528123986, 0.6987827692820412, 0.6973625946045641, 0.6959667389297634, 0.6945947232081614, 0.6932460789192898, 0.6919203478077336, 0.6906170816266851, 0.689335841888778, 0.6880761996239682, 0.6868377351442464, 0.6856200378149675, 0.6844227058325897, 0.6832453460086285, 0.682087573559628, 0.6809490119029689, 0.6798292924583287, 0.6787280544546246, 0.6776449447422669, 0.6765796176105627, 0.6755317346101137, 0.674500964380051, 0.673486982479966, 0.6724894712263919, 0.6715081195336967, 0.6705426227592584, 0.6695926825527895, 0.6686580067096888, 0.6677383090283, 0.6668333091709574, 0.6659427325287106, 0.6650663100896125, 0.6642037783104731, 0.6633548789919668, 0.6625193591570048, 0.6616969709322668, 0.6608874714328073, 0.6600906226496409, 0.6593061913402222, 0.658533948921736, 0.657773671367117, 0.6570251391037158, 0.6562881369145429, 0.6555624538420067, 0.6548478830940815, 0.6541442219528346, 0.6534512716852405, 0.6527688374562239, 0.6520967282438637, 0.6514347567566983, 0.6507827393530744, 0.650140495962477, 0.6495078500087939, 0.6488846283354501, 0.6482706611323696, 0.6476657818647061, 0.6470698272033001, 0.6464826369568106, 0.6459040540054751, 0.645333924236459, 0.6447720964807423, 0.6442184224515086, 0.643672756683994, 0.6431349564767534, 0.6426048818343099, 0.6420823954111484, 0.6415673624570173, 0.6410596507635037, 0.6405591306118478, 0.6400656747219637, 0.6395791582026374, 0.6390994585028644, 0.6386264553643044, 0.6381600307748208, 0.6377000689230727, 0.6372464561541419, 0.6367990809261562, 0.6363578337678931, 0.6359226072373338, 0.6354932958811427, 0.6350697961950519, 0.6346520065851262, 0.6342398273298834, 0.6338331605432547, 0.6334319101383569, 0.6330359817920606, 0.6326452829103341, 0.6322597225943422, 0.6318792116072808, 0.6315036623419311, 0.6311329887889149, 0.6307671065056322, 0.6304059325858671, 0.630049385630043, 0.6296973857161131, 0.6293498543710706, 0.6290067145430625, 0.6286678905740937, 0.6283333081733073, 0.6280028943908251, 0.6276765775921388, 0.6273542874330351, 0.6270359548350444, 0.6267215119614002, 0.6264108921934964, 0.6261040301078313, 0.6258008614534283, 0.6255013231297202, 0.6252053531648861, 0.6249128906946346, 0.6246238759414162, 0.6243382501940612, 0.6240559557878309, 0.6237769360848714, 0.6235011354550636, 0.6232284992572578, 0.6229589738208866, 0.6226925064279463, 0.6224290452953378, 0.6221685395575599, 0.6219109392497486, 0.6216561952910523, 0.6214042594683352, 0.6211550844202055, 0.6209086236213556, 0.6206648313672138, 0.6204236627588939, 0.6201850736884424, 0.6199490208243729, 0.6197154615974827, 0.619484354186946, 0.6192556575066772, 0.619029331191958, 0.6188053355863241, 0.618583631728704, 0.618364181340807, 0.6181469468147525, 0.617931891200938, 0.6177189781961386, 0.6175081721318338, 0.6172994379627583, 0.6170927412556699, 0.6168880481783321, 0.6166853254887044, 0.6164845405243377, 0.6162856611919725, 0.6160886559573302, 0.6158934938350992, 0.6157001443791088, 0.6155085776726874, 0.6153187643192017, 0.6151306754327739, 0.6149442826291707, 0.6147595580168649, 0.6145764741882609, 0.6143950042110856, 0.6142151216199385, 0.6140368004079985, 0.6138600150188842, 0.6136847403386657, 0.6135109516880234, 0.6133386248145508, 0.6131677358852007, 0.6129982614788692, 0.6128301785791164, 0.6126634645670206]\n"
          ]
        },
        {
          "data": {
            "image/png": "[encoded data removed]",
            "text/plain": [
              "<Figure size 640x480 with 1 Axes>"
            ]
          },
          "metadata": {},
          "output_type": "display_data"
        }
      ],
      "source": [
        "#iterative solution via gradient ascent\n",
        "# learning rate\n",
        "lr=0.0001\n",
        "# take initial gradient as the ouptut returned by the analytical solution\n",
        "th=np.random.randn(11) * 0.1\n",
        "bias=np.random.randn()\n",
        "train_loss=[]\n",
        "validation_loss=[]\n",
        "for j in range(400):\n",
        "    y_predict=np.dot(X_train,th)+bias\n",
        "    # compute the error\n",
        "    error=y_predict-y_train\n",
        "    derivative = (2 *lr/ len(X_train)) * np.dot(X_train.T,error)\n",
        "    th -= derivative\n",
        "    bias-=(2 *lr/ len(X_validate))*np.sum(error)\n",
        "    train_loss.append(np.sum(error *error) / (len(X_train)))\n",
        "    y_predict1=np.dot(X_test,th)+bias\n",
        "    error1=y_predict1-y_test\n",
        "    validation_loss.append(np.sum(error1 *error1) / (len(X_validate)))\n",
        "print(train_loss)\n",
        "# Plot the Loss function for training and validation sets\n",
        "import matplotlib.pyplot as plt\n",
        "plt.plot(train_loss, label='Training Loss')\n",
        "plt.plot(validation_loss, label='Validation Loss')\n",
        "plt.xlabel('Iterations')\n",
        "plt.ylabel('Loss')\n",
        "plt.title('Loss Function')\n",
        "plt.legend()\n",
        "plt.show()\n"
      ]
    },
    {
      "cell_type": "code",
      "execution_count": 36,
      "metadata": {
        "colab": {
          "base_uri": "https://localhost:8080/",
          "height": 509
        },
        "id": "NdFEx58Jn96B",
        "outputId": "82a82e10-35b5-46c4-fe36-c7c164e9825f"
      },
      "outputs": [
        {
          "name": "stdout",
          "output_type": "stream",
          "text": [
            "[318.87453061637973, 1604351.8395500593, 8495526147.447908, 44986530846162.01, 2.3821808365458608e+17, 1.2614410205162132e+21, 6.679734064808693e+24, 3.5371330447385113e+28, 1.873025191540982e+32, 9.918268054309179e+35, 5.25204047662578e+39, 2.7811235809594007e+43, 1.472693976177737e+47, 7.798386099484348e+50, 4.129495111704803e+54, 2.1866998709798977e+58, 1.1579275907580548e+62, 6.131597313525792e+65, 3.2468770858654083e+69, 1.7193253685238936e+73, 9.104378283115457e+76, 4.821059785398752e+80, 2.552905506737755e+84, 1.3518451992797474e+88, 7.158453135035784e+91, 3.790630119025891e+95, 2.0072600083026743e+99, 1.0629084385491661e+103, 5.628440481382163e+106, 2.980439434247291e+110, 1.5782381017618806e+114, 8.357276035310557e+117, 4.425445226066024e+121, 2.3434149316312237e+125, 1.2409132327401773e+129, 6.571032856387044e+132, 3.4795722747167115e+136, 1.8425449209569568e+140, 9.756865263046395e+143, 5.1665725312031724e+147, 2.7358655675284633e+151, 1.4487284090918906e+155, 7.671480748982688e+158, 4.062294665630397e+162, 2.151115083303512e+166, 1.1390843064058716e+170, 6.031816090041678e+173, 3.1940397334490133e+177, 1.6913462987862008e+181, 8.95622015111493e+184]\n"
          ]
        },
        {
          "data": {
            "image/png": "[encoded data removed]",
            "text/plain": [
              "<Figure size 640x480 with 1 Axes>"
            ]
          },
          "metadata": {},
          "output_type": "display_data"
        }
      ],
      "source": [
        "#iterative solution via gradient ascent\n",
        "# learning rate\n",
        "lr=0.01\n",
        "# take initial gradient as the ouptut returned by the analytical solution\n",
        "th=np.random.randn(11) * 0.1\n",
        "bias=np.random.randn()\n",
        "train_loss=[]\n",
        "validation_loss=[]\n",
        "for j in range(50):\n",
        "    y_predict=np.dot(X_train,th)+bias\n",
        "    # compute the error\n",
        "    error=y_predict-y_train\n",
        "    derivative = (2 *lr/ len(X_train)) * np.dot(X_train.T,error)\n",
        "    th -= derivative\n",
        "    bias-=(2 *lr/ len(X_validate))*np.sum(error)\n",
        "    train_loss.append(np.sum(error *error) / (len(X_train)))\n",
        "    y_predict1=np.dot(X_test,th)+bias\n",
        "    error1=y_predict1-y_test\n",
        "    validation_loss.append(np.sum(error1 *error1) / (len(X_validate)))\n",
        "print(train_loss)\n",
        "# Plot the Loss function for training and validation sets\n",
        "import matplotlib.pyplot as plt\n",
        "plt.plot(train_loss, label='Training Loss')\n",
        "plt.plot(validation_loss, label='Validation Loss')\n",
        "plt.xlabel('Iterations')\n",
        "plt.ylabel('Loss')\n",
        "plt.title('Loss Function')\n",
        "plt.legend()\n",
        "plt.show()"
      ]
    },
    {
      "cell_type": "code",
      "execution_count": 37,
      "metadata": {
        "colab": {
          "base_uri": "https://localhost:8080/",
          "height": 509
        },
        "id": "uR75-rmqn-KA",
        "outputId": "d876e5d8-6d5b-4f93-c526-f4beb814812b"
      },
      "outputs": [
        {
          "name": "stdout",
          "output_type": "stream",
          "text": [
            "[8.166886691758735, 7.221277159136988, 6.955922233250991, 6.74417123953379, 6.542669942529769, 6.348207188477985, 6.160341968442755, 5.978831621992043, 5.803454605941487, 5.633998035185668, 5.470256570360225, 5.312032095300568, 5.159133457579363, 5.011376221809001, 4.868582431947526, 4.730580382060233, 4.59720439522063, 4.468294610260225, 4.343696776087978, 4.223262053310268, 4.1068468228917805, 3.994312501606981, 3.8855253640407437, 3.780356370905285, 3.6786810034488635, 3.580379103739647, 3.4853347206159357, 3.393435961101267, 3.304574847090174, 3.218647177117227, 3.1355523930286973, 3.0551934513825647, 2.9774766994088417, 2.902311755368124, 2.8296113931520495, 2.7592914309749443, 2.6912706240112634, 2.625470560838581, 2.561815563550975, 2.5002325914123187, 2.4406511479237567, 2.3830031911840477, 2.327223047425784, 2.273247327614676, 2.2210148470030875, 2.170466547532874, 2.1215454229863355, 2.0741964467876493, 2.0283665023606834, 1.9840043159523622, 1.9410603918340612, 1.8994869497965643, 1.8592378648571524, 1.8202686091002753, 1.7825361955760464, 1.745999124183533, 1.71061732946833, 1.676352130266521, 1.6431661811294405, 1.6110234254660578, 1.579889050342012, 1.549729442876506, 1.5205121481803576, 1.4922058287805207, 1.4647802254783313, 1.4382061195906175, 1.4124552965246089, 1.387500510639328, 1.3633154513478418, 1.339874710416338, 1.3171537504176145, 1.295128874298007, 1.2737771960182989, 1.2530766122305195, 1.2330057749539014, 1.2135440652145917, 1.1946715676149342, 1.176369045799388, 1.1586179187852954, 1.1414002381278536, 1.1246986658897344, 1.1084964533868344, 1.0927774206826582, 1.077525936804826, 1.0627269006581113, 1.0483657226093523, 1.0344283067204338, 1.0209010336064002, 1.0077707438965577, 0.9950247222772268, 0.9826506820955454, 0.9706367505044793, 0.9589714541298701, 0.9476437052410598, 0.9366427884072726, 0.9259583476225659, 0.9155803738827778, 0.9054991931984886, 0.8957054550285701, 0.8861901211194593, 0.8769444547358051, 0.867960010268662, 0.8592286232078806, 0.8507424004658242, 0.8424937110400054, 0.8344751770026579, 0.8266796648057131, 0.8191002768900142, 0.81173034358806, 0.804563415309886, 0.7975932550020989, 0.7908138308704312, 0.7842193093565046, 0.7778040483598384, 0.7715625906964545, 0.7654896577857314, 0.7595801435574574, 0.7538291085713231, 0.7482317743413643, 0.742783517858129, 0.7374798663016059, 0.732316491938193, 0.7272892071952235, 0.722393959906795, 0.717626828724878, 0.712984018689876, 0.7084618569550345, 0.704056788659284, 0.6997653729432927, 0.6955842791036971, 0.6915102828806499, 0.687540262874002, 0.6836711970835918, 0.6799001595692927, 0.6762243172266024, 0.6726409266737214, 0.6691473312462084, 0.6657409580954344, 0.6624193153871945, 0.6591799895969676, 0.6560206428984278, 0.6529390106419494, 0.6499328989199402, 0.6470001822159712, 0.6441388011347594, 0.6413467602101836, 0.6386221257885872, 0.6359630239847508, 0.6333676387079785, 0.6308342097558542, 0.628361030973303, 0.62594644847467, 0.6235888589266214, 0.6212867078897422, 0.6190384882167802, 0.6168427385055631, 0.6146980416046794, 0.6126030231700851, 0.6105563502708596, 0.6085567300424038, 0.6066029083854209, 0.6046936687090911, 0.6028278307169058, 0.6010042492336694, 0.599221813072244, 0.5974794439386564, 0.5957760953742313, 0.5941107517334673, 0.5924824271964189, 0.5908901648143807, 0.5893330355877272, 0.5878101375747895, 0.586320595030694, 0.5848635575751305, 0.583438199388045, 0.5820437184322907, 0.5806793357023128, 0.5793442944979591, 0.578037859722557, 0.5767593172044123, 0.5755079730409316, 0.5742831529645793, 0.5730842017299249, 0.57191048252105, 0.5707613763786182, 0.5696362816459302, 0.5685346134333121, 0.567455803100209, 0.5663992977543771, 0.5653645597675833, 0.5643510663072544, 0.5633583088835257, 0.562385792911161, 0.5614330372858395, 0.5604995739743173, 0.5595849476179888, 0.5586887151493927, 0.5578104454212214, 0.5569497188474082, 0.5561061270558793, 0.5552792725525784, 0.5544687683963777, 0.553674237884505, 0.5528953142481359, 0.5521316403577996, 0.5513828684382726, 0.5506486597926348, 0.5499286845351817, 0.5492226213328913, 0.5485301571551595, 0.5478509870315246, 0.5471848138171116, 0.5465313479655372, 0.5458903073090254, 0.5452614168454916, 0.5446444085323608, 0.5440390210868962, 0.5434449997928182, 0.5428620963130077, 0.5422900685080844, 0.5417286802606712, 0.54117770130515, 0.5406369070627313, 0.5401060784816543, 0.5395850018823559, 0.539073468807437, 0.5385712758762691, 0.5380782246440928, 0.5375941214654506, 0.5371187773618209, 0.5366520078933082, 0.5361936330342587, 0.5357434770526732, 0.5353013683932908, 0.534867139564225, 0.5344406270270354, 0.5340216710901227, 0.5336101158053391, 0.5332058088677084, 0.5328086015181582, 0.5324183484491605, 0.532034907713192, 0.5316581406339219, 0.5312879117200346, 0.5309240885816097, 0.5305665418489706, 0.5302151450939263, 0.5298697747533273, 0.5295303100548642, 0.5291966329450332, 0.5288686280192041, 0.5285461824537206, 0.5282291859399691, 0.5279175306203535, 0.5276111110261169, 0.5273098240169498, 0.5270135687223294, 0.5267222464845358, 0.5264357608032924, 0.5261540172819781, 0.5258769235753639, 0.5256043893388257, 0.5253363261789876, 0.5250726476057487, 0.5248132689856553, 0.524558107496572, 0.5243070820836141, 0.5240601134163028, 0.5238171238469024, 0.5235780373699086, 0.5233427795826463, 0.5231112776469484, 0.522883460251879, 0.5226592575774713, 0.5224386012594492, 0.5222214243549005, 0.5220076613088767, 0.5217972479218886, 0.5215901213182716, 0.5213862199153956, 0.5211854833936916, 0.5209878526674753, 0.520793269856537, 0.5206016782584839, 0.5204130223218034, 0.5202272476196333, 0.5200443008242142, 0.5198641296820048, 0.5196866829894423, 0.5195119105693257, 0.519339763247808, 0.519170192831976, 0.5190031520880037, 0.5188385947198589, 0.5186764753485523, 0.5185167494919077, 0.5183593735448443, 0.5182043047601502, 0.5180515012297396, 0.5179009218663739, 0.5177525263858389, 0.5176062752895608, 0.5174621298476517, 0.5173200520823713, 0.5171800047519928, 0.5170419513350631, 0.5169058560150452, 0.5167716836653319, 0.5166393998346216, 0.5165089707326469, 0.5163803632162427, 0.51625354477575, 0.5161284835217406, 0.5160051481720586, 0.5158835080391674, 0.5157635330177945, 0.5156451935728668, 0.5155284607277282, 0.5154133060526311, 0.5152997016534964, 0.5151876201609328, 0.5150770347195097, 0.5149679189772782, 0.5148602470755292, 0.5147539936387889, 0.5146491337650401, 0.5145456430161649, 0.5144434974086063, 0.5143426734042369, 0.5142431479014351, 0.5141448982263603, 0.514047902124423, 0.5139521377519441, 0.5138575836680008, 0.5137642188264507, 0.5136720225681328, 0.5135809746132404, 0.5134910550538594, 0.5134022443466706, 0.5133145233058106, 0.5132278730958878, 0.5131422752251484, 0.5130577115387911, 0.5129741642124251, 0.5128916157456672, 0.5128100489558775, 0.5127294469720268, 0.5126497932286961, 0.512571071460201, 0.5124932656948422, 0.512416360249276, 0.5123403397230027, 0.5122651889929714, 0.5121908932082967, 0.5121174377850854, 0.512044808401371, 0.5119729909921528, 0.5119019717445372, 0.5118317370929796, 0.5117622737146238, 0.5116935685247364, 0.5116256086722348, 0.5115583815353071, 0.5114918747171195, 0.5114260760416116, 0.5113609735493769, 0.5112965554936262, 0.511232810336231, 0.5111697267438491, 0.5111072935841244, 0.5110454999219661, 0.510984335015898, 0.5109237883144845, 0.5108638494528247, 0.5108045082491164, 0.5107457547012894, 0.5106875789837027, 0.5106299714439091, 0.5105729225994808, 0.5105164231348996, 0.5104604638985059, 0.5104050358995073, 0.5103501303050475, 0.5102957384373289, 0.5102418517707933, 0.5101884619293562, 0.5101355606836941, 0.510083139948585, 0.5100311917802992, 0.5099797083740402, 0.5099286820614349, 0.5098781053080714, 0.5098279707110842, 0.5097782709967847, 0.5097289990183378, 0.5096801477534807, 0.5096317103022869, 0.5095836798849718, 0.5095360498397383, 0.5094888136206652, 0.5094419647956345, 0.509395497044296, 0.5093494041560727, 0.5093036800282017, 0.5092583186638123, 0.5092133141700399, 0.5091686607561751, 0.5091243527318471, 0.5090803845052401, 0.5090367505813453, 0.5089934455602417, 0.5089504641354117, 0.5089078010920854, 0.5088654513056177, 0.508823409739894, 0.508781671445765, 0.5087402315595104, 0.5086990853013317, 0.508658227973872, 0.508617654960762, 0.5085773617251936, 0.5085373438085202, 0.5084975968288802, 0.508458116479848, 0.5084188985291076, 0.5083799388171526, 0.5083412332560062, 0.508302777827969, 0.5082645685843847, 0.5082266016444323, 0.5081888731939371, 0.5081513794842047, 0.5081141168308755, 0.5080770816128, 0.5080402702709342, 0.5080036793072553, 0.5079673052836957, 0.5079311448210978, 0.5078951945981861, 0.5078594513505579, 0.5078239118696932, 0.5077885730019813, 0.5077534316477643, 0.507718484760399, 0.5076837293453349, 0.5076491624592074, 0.5076147812089504, 0.5075805827509203, 0.5075465642900397, 0.5075127230789531, 0.5074790564171997, 0.5074455616503998, 0.5074122361694559, 0.5073790774097682, 0.5073460828504629, 0.5073132500136363, 0.5072805764636095, 0.5072480598061984, 0.507215697687996, 0.5071834877956664, 0.5071514278552527, 0.507119515631496, 0.5070877489271673, 0.5070561255824102, 0.5070246434740949, 0.5069933005151861, 0.5069620946541179, 0.5069310238741837, 0.5069000861929337, 0.506869279661585, 0.5068386023644408, 0.5068080524183206, 0.5067776279719991, 0.5067473272056576, 0.5067171483303414, 0.5066870895874288, 0.50665714924811, 0.5066273256128729, 0.5065976170110003, 0.5065680218000731, 0.5065385383654855, 0.5065091651199659, 0.5064799005031062, 0.5064507429809023, 0.5064216910452988, 0.506392743213744, 0.5063638980287514, 0.5063351540574703, 0.5063065098912618, 0.5062779641452841, 0.5062495154580838, 0.5062211624911945, 0.506192903928743, 0.5061647384770611, 0.5061366648643056, 0.5061086818400842, 0.5060807881750865, 0.5060529826607246, 0.5060252641087768, 0.5059976313510388, 0.5059700832389814, 0.5059426186434125, 0.5059152364541475, 0.5058879355796827, 0.5058607149468753, 0.5058335735006305, 0.5058065102035914, 0.5057795240358358, 0.5057526139945784, 0.5057257790938771, 0.5056990183643449, 0.5056723308528678, 0.5056457156223249, 0.5056191717513161, 0.5055926983338935, 0.5055662944792967, 0.5055399593116932, 0.5055136919699239, 0.505487491607252, 0.5054613573911168, 0.5054352885028911, 0.5054092841376441, 0.5053833435039063, 0.5053574658234411, 0.5053316503310173, 0.5053058962741889, 0.5052802029130745, 0.5052545695201452, 0.5052289953800125, 0.5052034797892214, 0.5051780220560466, 0.5051526215002927, 0.5051272774530975, 0.5051019892567384, 0.5050767562644426, 0.5050515778402007, 0.5050264533585823, 0.5050013822045561, 0.5049763637733135, 0.5049513974700922, 0.5049264827100074, 0.5049016189178813, 0.5048768055280792, 0.5048520419843463, 0.5048273277396477, 0.5048026622560113, 0.504778045004374, 0.5047534754644293, 0.5047289531244784, 0.5047044774812836, 0.504680048039924, 0.504655664313654, 0.5046313258237645, 0.5046070320994451, 0.5045827826776509, 0.5045585771029687, 0.5045344149274889, 0.5045102957106762, 0.5044862190192452, 0.5044621844270362, 0.5044381915148947, 0.5044142398705516, 0.5043903290885059, 0.5043664587699106, 0.5043426285224585, 0.5043188379602713, 0.5042950867037901, 0.5042713743796681, 0.5042477006206648, 0.5042240650655425, 0.5042004673589638, 0.5041769071513913, 0.5041533840989896, 0.5041298978635272, 0.5041064481122823, 0.5040830345179492, 0.5040596567585451, 0.5040363145173207, 0.5040130074826709, 0.5039897353480473, 0.5039664978118722, 0.503943294577455, 0.5039201253529079, 0.5038969898510647, 0.5038738877894016, 0.5038508188899564, 0.5038277828792534, 0.503804779488225, 0.5037818084521384, 0.503758869510521, 0.5037359624070883, 0.5037130868896738, 0.5036902427101572, 0.5036674296243975, 0.5036446473921644, 0.5036218957770721, 0.5035991745465146, 0.5035764834716006, 0.5035538223270912, 0.5035311908913381, 0.5035085889462216, 0.503486016277092, 0.50346347267271, 0.5034409579251886, 0.5034184718299375, 0.5033960141856056, 0.5033735847940272, 0.5033511834601674, 0.5033288099920693, 0.5033064642008017, 0.5032841459004078, 0.503261854907855, 0.5032395910429848, 0.5032173541284647, 0.5031951439897399, 0.5031729604549863, 0.5031508033550645, 0.5031286725234738, 0.5031065677963081, 0.5030844890122116, 0.5030624360123355, 0.5030404086402956, 0.503018406742131, 0.5029964301662624, 0.5029744787634521, 0.5029525523867645, 0.5029306508915269, 0.5029087741352912, 0.5028869219777963, 0.5028650942809313, 0.502843290908699, 0.5028215117271789, 0.5027997566044949, 0.5027780254107781, 0.5027563180181338, 0.5027346343006079, 0.5027129741341549, 0.5026913373966045, 0.5026697239676307, 0.5026481337287194, 0.5026265665631401, 0.5026050223559132, 0.502583500993782, 0.5025620023651831, 0.5025405263602177, 0.5025190728706236, 0.5024976417897475, 0.502476233012518, 0.5024548464354189, 0.5024334819564623, 0.5024121394751635, 0.5023908188925158, 0.5023695201109645, 0.5023482430343835, 0.5023269875680508, 0.5023057536186246, 0.50228454109412, 0.5022633499038865, 0.5022421799585857, 0.5022210311701677, 0.5021999034518514, 0.5021787967181021, 0.5021577108846097, 0.5021366458682698, 0.5021156015871621, 0.5020945779605311, 0.5020735749087657, 0.5020525923533811, 0.5020316302169986, 0.5020106884233281, 0.5019897668971488, 0.5019688655642919, 0.5019479843516225, 0.5019271231870224, 0.501906281999373, 0.5018854607185385, 0.501864659275349, 0.501843877601585, 0.5018231156299606, 0.5018023732941087, 0.5017816505285644, 0.5017609472687513, 0.5017402634509652, 0.5017195990123603, 0.5016989538909344, 0.5016783280255152, 0.5016577213557457, 0.5016371338220713, 0.5016165653657255, 0.5015960159287173, 0.5015754854538181, 0.5015549738845487, 0.5015344811651672, 0.5015140072406556, 0.5014935520567093, 0.5014731155597236, 0.501452697696783, 0.5014322984156491, 0.5014119176647497, 0.5013915553931673, 0.5013712115506282, 0.5013508860874922, 0.5013305789547413, 0.5013102901039698, 0.5012900194873736, 0.5012697670577412, 0.5012495327684423, 0.5012293165734194, 0.5012091184271777, 0.5011889382847755, 0.5011687761018153, 0.5011486318344349, 0.501128505439298, 0.5011083968735858, 0.5010883060949881, 0.5010682330616951, 0.5010481777323895, 0.5010281400662365, 0.5010081200228786, 0.5009881175624251, 0.5009681326454457, 0.5009481652329625, 0.5009282152864427, 0.5009082827677908, 0.5008883676393416, 0.5008684698638534, 0.5008485894044999, 0.500828726224865, 0.5008088802889343, 0.5007890515610897, 0.5007692400061019, 0.5007494455891249, 0.5007296682756888, 0.5007099080316942, 0.5006901648234058, 0.5006704386174463, 0.500650729380791, 0.5006310370807613, 0.5006113616850195, 0.5005917031615628, 0.500572061478718, 0.5005524366051366, 0.500532828509788, 0.5005132371619561, 0.5004936625312326, 0.5004741045875131, 0.5004545633009909, 0.5004350386421536, 0.5004155305817768, 0.5003960390909206, 0.500376564140924, 0.5003571057034009, 0.5003376637502355, 0.5003182382535779, 0.5002988291858393, 0.5002794365196886, 0.5002600602280475, 0.5002407002840865, 0.5002213566612211, 0.5002020293331076, 0.5001827182736392, 0.5001634234569426, 0.500144144857373, 0.5001248824495118, 0.5001056362081622, 0.5000864061083455, 0.5000671921252984, 0.500047994234468, 0.50002881241151, 0.5000096466322844, 0.4999904968728526, 0.49997136310947354, 0.4999522453186015, 0.49993314347688206, 0.49991405756114976, 0.4998949875484241, 0.4998759334159078, 0.4998568951409827, 0.4998378727012078, 0.49981886607431575, 0.4997998752382104, 0.4997809001709641, 0.4997619408508148, 0.4997429972561638, 0.49972406936557245, 0.4997051571577604, 0.49968626061160254, 0.4996673797061267, 0.4996485144205113, 0.4996296647340828, 0.4996108306263134, 0.49959201207681914, 0.4995732090653567, 0.49955442157182234, 0.4995356495762486, 0.49951689305880304, 0.4994981519997855, 0.4994794263796263, 0.4994607161788844, 0.49944202137824456, 0.49942334195851673, 0.4994046779006327, 0.4993860291856451, 0.49936739579472533, 0.49934877770916114, 0.4993301749103558, 0.4993115873798256, 0.49929301509919827, 0.49927445805021137, 0.49925591621471055, 0.49923738957464764, 0.4992188781120794, 0.49920038180916565, 0.49918190064816775, 0.49916343461144724, 0.4991449836814639, 0.4991265478407743, 0.499108127072031, 0.4990897213579804, 0.49907133068146114, 0.49905295502540337, 0.4990345943728271, 0.49901624870684064, 0.49899791801063936, 0.4989796022675046, 0.49896130146080225, 0.49894301557398113, 0.49892474459057234, 0.4989064884941876, 0.49888824726851827, 0.49887002089733423, 0.4988518093644821, 0.4988336126538851, 0.49881543074954104, 0.4987972636355218, 0.49877911129597174, 0.498760973715107, 0.49874285087721465, 0.4987247427666507, 0.4987066493678403, 0.49868857066527605, 0.4986705066435168, 0.49865245728718727, 0.4986344225809772, 0.49861640250963934, 0.49859839705798975, 0.4985804062109064, 0.49856242995332795, 0.4985444682702536, 0.4985265211467415, 0.49850858856790864, 0.49849067051892926, 0.49847276698503473, 0.4984548779515119, 0.49843700340370356, 0.4984191433270065, 0.4984012977068711, 0.498383466528801, 0.4983656497783519, 0.4983478474411309, 0.4983300595027957, 0.4983122859490545, 0.49829452676566477, 0.49827678193843206, 0.49825905145321064, 0.49824133529590225, 0.4982236334524547, 0.49820594590886214, 0.49818827265116455, 0.4981706136654465, 0.49815296893783684, 0.498135338454508, 0.4981177222016757, 0.4981001201655982, 0.4980825323325755, 0.498064958688949, 0.4980473992211013, 0.49802985391545496, 0.4980123227584726, 0.49799480573665605, 0.49797730283654573, 0.4979598140447208, 0.4979423393477977, 0.49792487873243046, 0.49790743218531003, 0.4978899996931634, 0.49787258124275374, 0.49785517682087976, 0.49783778641437476, 0.49782041001010713, 0.49780304759497895, 0.49778569915592646, 0.49776836467991903, 0.49775104415395865, 0.4977337375650803, 0.4977164449003509, 0.49769916614686893, 0.49768190129176426, 0.49766465032219803, 0.49764741322536143, 0.49763018998847663, 0.4976129805987949, 0.4975957850435977, 0.497578603310195, 0.4975614353859263, 0.49754428125815914, 0.4975271409142896, 0.4975100143417413, 0.4974929015279655, 0.4974758024604409, 0.4974587171266729, 0.49744164551419345, 0.49742458761056113, 0.4974075434033604, 0.4973905128802015, 0.49737349602872, 0.4973564928365769, 0.4973395032914579, 0.4973225273810736, 0.4973055650931585, 0.4972886164154719, 0.4972716813357966, 0.49725475984193906, 0.49723785192172903, 0.49722095756301943, 0.4972040767536863, 0.497187209481628, 0.49717035573476553, 0.49715351550104214, 0.4971366887684228, 0.4971198755248946, 0.4971030757584658, 0.49708628945716626, 0.4970695166090468, 0.49705275720217934, 0.4970360112246561, 0.4970192786645904, 0.4970025595101154, 0.4969858537493846, 0.49696916137057146, 0.49695248236186906, 0.49693581671149006, 0.4969191644076667, 0.49690252543865016, 0.49688589979271075, 0.4968692874581378, 0.49685268842323904, 0.496836102676341, 0.49681953020578845, 0.49680297099994436, 0.4967864250471897, 0.49676989233592345, 0.4967533728545622, 0.49673686659154026, 0.49672037353530935, 0.4967038936743381, 0.496687426997113, 0.49667097349213696, 0.4966545331479302, 0.49663810595302915]\n"
          ]
        },
        {
          "data": {
            "image/png": "[encoded data removed]",
            "text/plain": [
              "<Figure size 640x480 with 1 Axes>"
            ]
          },
          "metadata": {},
          "output_type": "display_data"
        }
      ],
      "source": [
        "#iterative solution via gradient ascent\n",
        "# learning rate\n",
        "lr=0.0001\n",
        "# take initial gradient as the ouptut returned by the analytical solution\n",
        "th=np.random.randn(11) * 0.1\n",
        "bias=np.random.randn()\n",
        "train_loss=[]\n",
        "validation_loss=[]\n",
        "for j in range(960):\n",
        "    y_predict=np.dot(X_train,th)+bias\n",
        "    # compute the error\n",
        "    error=y_predict-y_train\n",
        "    derivative = (2 *lr/ len(X_train)) * np.dot(X_train.T,error)\n",
        "    th -= derivative\n",
        "    bias-=(2 *lr/ len(X_validate))*np.sum(error)\n",
        "    train_loss.append(np.sum(error *error) / (len(X_train)))\n",
        "    y_predict1=np.dot(X_test,th)+bias\n",
        "    error1=y_predict1-y_test\n",
        "    validation_loss.append(np.sum(error1 *error1) / (len(X_validate)))\n",
        "print(train_loss)\n",
        "# Plot the Loss function for training and validation sets\n",
        "import matplotlib.pyplot as plt\n",
        "plt.plot(train_loss, label='Training Loss')\n",
        "plt.plot(validation_loss, label='Validation Loss')\n",
        "plt.xlabel('Iterations')\n",
        "plt.ylabel('Loss')\n",
        "plt.title('Loss Function')\n",
        "plt.legend()\n",
        "plt.show()"
      ]
    },
    {
      "cell_type": "code",
      "execution_count": 38,
      "metadata": {
        "colab": {
          "base_uri": "https://localhost:8080/"
        },
        "id": "bgLhLGHKvL7J",
        "outputId": "83228915-5211-439d-9dc7-e961b7295560"
      },
      "outputs": [
        {
          "data": {
            "text/plain": [
              "array([5.65911477, 5.8397583 , 5.72218962, 4.83453337, 5.84658758,\n",
              "       6.22867581, 5.26449993, 5.82616941, 5.31013834, 5.44333533,\n",
              "       5.91061305, 5.51697118, 5.70222314, 5.4152439 , 4.56888732,\n",
              "       5.02864126, 5.57250623, 6.10335527, 5.56235177, 5.94222986,\n",
              "       5.45501424, 6.80742148, 4.93236522, 6.42819002, 5.16159367,\n",
              "       5.72321302, 5.63995328, 6.38413202, 5.54712952, 5.63507856,\n",
              "       5.09958507, 5.20312203, 6.11977923, 5.70350922, 6.02642031,\n",
              "       5.84600422, 6.17013462, 5.33140297, 5.31846947, 5.02010555,\n",
              "       6.84761684, 5.06300091, 5.18098372, 5.12389023, 5.27412375,\n",
              "       5.40795827, 5.66373855, 5.22330216, 6.64740489, 6.10179706,\n",
              "       5.14183605, 5.70350922, 5.72700962, 6.45181465, 6.1701253 ,\n",
              "       5.76575916, 5.30304738, 5.40039607, 6.27750009, 6.4276658 ,\n",
              "       6.53984037, 5.3406332 , 5.1130295 , 5.72293614, 5.47522908,\n",
              "       5.244591  , 4.9075782 , 5.57773881, 5.62003406, 5.30611652,\n",
              "       6.23139846, 6.03212601, 6.10007823, 5.94545103, 5.06005742,\n",
              "       6.29160634, 5.65334611, 5.93518666, 5.57030104, 5.33450549,\n",
              "       5.85856393, 5.67863297, 5.77237966, 5.61090832, 5.03276901,\n",
              "       5.88662925, 5.09342499, 5.48128477, 5.37680519, 6.45202806,\n",
              "       5.95407854, 5.53782625, 5.25374275, 5.13381858, 5.60804248,\n",
              "       5.36900316, 5.56538033, 6.01045926, 5.42142218, 5.16202887,\n",
              "       5.08594228, 5.45848402, 4.8327155 , 5.43939268, 5.61741195,\n",
              "       5.81713162, 4.92767169, 5.49680286, 5.53688809, 5.17038623,\n",
              "       5.0737725 , 5.68522389, 5.5658938 , 5.50842475, 6.68081931,\n",
              "       5.08424439, 5.81141331, 5.57319256, 6.11558501, 5.33046389,\n",
              "       5.69911195, 5.92057805, 5.53122884, 6.00507113, 6.71290984,\n",
              "       5.15360644, 6.18859322, 6.03214612, 5.29194423, 5.64844677,\n",
              "       5.97888725, 5.11099012, 5.67311866, 4.99813335, 5.58590837,\n",
              "       5.83528514, 6.0706868 , 5.96848475, 6.318664  , 6.2961559 ,\n",
              "       5.28984565, 5.71011372, 5.93539468, 5.24097768, 5.3162712 ,\n",
              "       5.35256855, 5.34726793, 5.79525726, 5.92111779, 5.19729692,\n",
              "       5.30224599, 5.39592071, 6.03402386, 5.85405327, 5.03976214,\n",
              "       6.08766596, 5.80708119, 5.15842566, 5.14993854, 5.54963411,\n",
              "       5.27174454, 5.39380733, 5.25587185, 5.96809134, 5.67092696,\n",
              "       5.86874424, 6.82307143, 5.0455831 , 6.14897904, 6.73690006,\n",
              "       5.96450998, 5.89759615, 6.39296968, 5.04064336, 5.12356204,\n",
              "       5.30730411, 5.1924612 , 5.76091357, 5.12178394, 5.38561031,\n",
              "       5.27308595, 5.3485315 , 5.51185369, 6.05874034, 5.06401866,\n",
              "       5.34251965, 5.93518666, 5.15666605, 5.21361949, 5.29992412,\n",
              "       5.44577131, 5.00882832, 5.51443687, 5.1755401 , 5.8467858 ,\n",
              "       5.36942894, 5.38886408, 5.292948  , 5.19862879, 6.35560976,\n",
              "       5.25664474, 5.6881038 , 5.25726751, 4.97966572, 5.42100869,\n",
              "       5.38090821, 5.07439085, 5.63312902, 5.42418236, 5.66017613,\n",
              "       5.45634971, 5.25372786, 5.7594436 , 5.55392164, 5.53131946,\n",
              "       5.09208238, 5.64711256, 4.94794714, 5.73952167, 5.3766281 ,\n",
              "       5.66960685, 6.88498787, 5.59645843, 6.64003299, 5.17168595,\n",
              "       5.13258452, 5.97028472, 5.09245599, 5.71508024, 5.88230384,\n",
              "       5.3766281 , 5.77003419, 5.98344263, 6.54205915, 5.15720676,\n",
              "       5.52215144, 5.71525009, 6.27220232, 5.78522512, 6.66994642,\n",
              "       5.4907581 , 5.4698237 , 5.4334063 , 5.13561748, 5.49131382,\n",
              "       6.14952797, 5.77834542, 6.12691748, 5.84814406, 5.09329965,\n",
              "       5.07031503, 5.16056147, 5.10297865, 5.53765914, 5.29992412,\n",
              "       6.11977923, 5.04426816, 5.509194  , 5.74018623, 5.59263866,\n",
              "       5.03589808, 5.53646618, 5.53779457, 5.0941272 , 5.04097745,\n",
              "       5.81439828, 5.54970972, 5.04888551, 5.13968361, 5.00057933,\n",
              "       6.19791187, 5.95906039, 5.32974507, 5.40156374, 5.40478621,\n",
              "       6.17943184, 5.75459142, 5.49430835, 6.35473145, 5.72987543,\n",
              "       5.43700021, 5.42327471, 5.81726909, 6.26596605, 5.67659768,\n",
              "       5.28121766, 5.02685131, 5.44610488, 5.09905119, 5.02248539,\n",
              "       5.91083988, 5.09855661, 6.04087063, 5.37426001, 6.48031832,\n",
              "       5.9209107 , 5.57627573, 5.54444068, 5.38728728, 6.10655   ,\n",
              "       6.59577538, 5.73070477, 5.19529198, 7.12809843, 5.4357524 ,\n",
              "       6.26529055, 5.64282085, 5.76106014, 5.97572383, 6.40073882,\n",
              "       4.98863944, 5.36807664, 6.60228248, 5.66016667, 5.94148433,\n",
              "       4.96717308, 5.52559833, 5.18251438, 5.71231471, 6.06482526])"
            ]
          },
          "execution_count": 38,
          "metadata": {},
          "output_type": "execute_result"
        }
      ],
      "source": [
        "predicted_value = np.dot( X_test,th)+bias\n",
        "predicted_value"
      ]
    },
    {
      "cell_type": "code",
      "execution_count": 39,
      "metadata": {
        "colab": {
          "base_uri": "https://localhost:8080/"
        },
        "id": "VjLPUwrIox6t",
        "outputId": "49e0f118-9290-4d9d-e888-b7ebff445128"
      },
      "outputs": [
        {
          "name": "stdout",
          "output_type": "stream",
          "text": [
            "R square error =  0.21183404702109065\n",
            "Root mean squared error = 0.5764744443752454\n"
          ]
        }
      ],
      "source": [
        "# do same for test data set\n",
        "#calculate the rmse to know the loss on the validation data and test data\n",
        "#pow(R,2)=1-SSR/SST\n",
        "diff=y_test-predicted_value.flatten()\n",
        "SSR=np.sum(diff*diff)\n",
        "#print(SSR)\n",
        "# SST = for all data point (yi actual-yi mean)**2\n",
        "diff1=y_test-[np.mean(y_test)]*320\n",
        "SST=np.sum(diff1*diff1)\n",
        "print(\"R square error = \",(1-(SSR/SST)))\n",
        "#calculate the rmse to know the loss on the validation data and test data\n",
        "diff2=y_test-predicted_value.flatten()\n",
        "rmse=np.sqrt(1/480*(np.sum(diff2*diff2)))\n",
        "print(\"Root mean squared error =\",rmse)"
      ]
    }
  ],
  "metadata": {
    "colab": {
      "provenance": []
    },
    "kernelspec": {
      "display_name": "base",
      "language": "python",
      "name": "python3"
    },
    "language_info": {
      "codemirror_mode": {
        "name": "ipython",
        "version": 3
      },
      "file_extension": ".py",
      "mimetype": "text/x-python",
      "name": "python",
      "nbconvert_exporter": "python",
      "pygments_lexer": "ipython3",
      "version": "3.9.12"
    },
    "orig_nbformat": 4,
    "vscode": {
      "interpreter": {
        "hash": "3067ead486e059ec00ffe7555bdb889e6e264a24dc711bf108106cc7baee8d5d"
      }
    }
  },
  "nbformat": 4,
  "nbformat_minor": 0
}
