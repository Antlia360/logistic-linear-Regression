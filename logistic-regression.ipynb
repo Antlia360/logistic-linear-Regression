{
  "cells": [
    {
      "cell_type": "code",
      "execution_count": 1,
      "metadata": {
        "id": "fcwOeP4OFe4A"
      },
      "outputs": [],
      "source": [
        "# import all the necessary libraries here\n",
        "import pandas as pd"
      ]
    },
    {
      "cell_type": "code",
      "execution_count": 2,
      "metadata": {
        "colab": {
          "base_uri": "https://localhost:8080/"
        },
        "id": "DrZRJqxaFe4C",
        "outputId": "57f7a616-3bd3-41af-841e-958ca76b0240"
      },
      "outputs": [
        {
          "name": "stdout",
          "output_type": "stream",
          "text": [
            "(2500, 13)\n"
          ]
        }
      ],
      "source": [
        "#Reading the 'Pumpkin_Seeds_Dataset.xlsx' excel sheet\n",
        "df = pd.read_excel('Pumpkin_Seeds_Dataset.xlsx')\n",
        "print(df.shape)"
      ]
    },
    {
      "cell_type": "code",
      "execution_count": 3,
      "metadata": {
        "colab": {
          "base_uri": "https://localhost:8080/"
        },
        "id": "nF-zMb8-Fe4D",
        "outputId": "5b68129b-6fa0-48be-9ee0-cbd7dd1538f5"
      },
      "outputs": [
        {
          "name": "stdout",
          "output_type": "stream",
          "text": [
            "       Area  Perimeter  Major_Axis_Length  Minor_Axis_Length  Convex_Area  \\\n",
            "0     56276    888.242           326.1485           220.2388        56831   \n",
            "1     76631   1068.146           417.1932           234.2289        77280   \n",
            "2     71623   1082.987           435.8328           211.0457        72663   \n",
            "3     66458    992.051           381.5638           222.5322        67118   \n",
            "4     66107    998.146           383.8883           220.4545        67117   \n",
            "...     ...        ...                ...                ...          ...   \n",
            "2495  79637   1224.710           533.1513           190.4367        80381   \n",
            "2496  69647   1084.318           462.9416           191.8210        70216   \n",
            "2497  87994   1210.314           507.2200           222.1872        88702   \n",
            "2498  80011   1182.947           501.9065           204.7531        80902   \n",
            "2499  84934   1159.933           462.8951           234.5597        85781   \n",
            "\n",
            "      Equiv_Diameter  Eccentricity  Solidity  Extent  Roundness  \\\n",
            "0           267.6805        0.7376    0.9902  0.7453     0.8963   \n",
            "1           312.3614        0.8275    0.9916  0.7151     0.8440   \n",
            "2           301.9822        0.8749    0.9857  0.7400     0.7674   \n",
            "3           290.8899        0.8123    0.9902  0.7396     0.8486   \n",
            "4           290.1207        0.8187    0.9850  0.6752     0.8338   \n",
            "...              ...           ...       ...     ...        ...   \n",
            "2495        318.4289        0.9340    0.9907  0.4888     0.6672   \n",
            "2496        297.7874        0.9101    0.9919  0.6002     0.7444   \n",
            "2497        334.7199        0.8990    0.9920  0.7643     0.7549   \n",
            "2498        319.1758        0.9130    0.9890  0.7374     0.7185   \n",
            "2499        328.8485        0.8621    0.9901  0.7360     0.7933   \n",
            "\n",
            "      Aspect_Ration  Compactness          Class  \n",
            "0            1.4809       0.8207     Çerçevelik  \n",
            "1            1.7811       0.7487     Çerçevelik  \n",
            "2            2.0651       0.6929     Çerçevelik  \n",
            "3            1.7146       0.7624     Çerçevelik  \n",
            "4            1.7413       0.7557     Çerçevelik  \n",
            "...             ...          ...            ...  \n",
            "2495         2.7996       0.5973  Ürgüp Sivrisi  \n",
            "2496         2.4134       0.6433  Ürgüp Sivrisi  \n",
            "2497         2.2828       0.6599  Ürgüp Sivrisi  \n",
            "2498         2.4513       0.6359  Ürgüp Sivrisi  \n",
            "2499         1.9735       0.7104  Ürgüp Sivrisi  \n",
            "\n",
            "[2500 rows x 13 columns]\n"
          ]
        }
      ],
      "source": [
        "print(df)"
      ]
    },
    {
      "cell_type": "code",
      "execution_count": 4,
      "metadata": {
        "colab": {
          "base_uri": "https://localhost:8080/"
        },
        "id": "_Mqp4JZJERcC",
        "outputId": "fbdbd1a6-9142-457f-a0b5-adc8ba3c04f0"
      },
      "outputs": [
        {
          "name": "stdout",
          "output_type": "stream",
          "text": [
            "    Area  Perimeter  Major_Axis_Length  Minor_Axis_Length  Convex_Area  \\\n",
            "0  56276    888.242           326.1485           220.2388        56831   \n",
            "1  76631   1068.146           417.1932           234.2289        77280   \n",
            "2  71623   1082.987           435.8328           211.0457        72663   \n",
            "3  66458    992.051           381.5638           222.5322        67118   \n",
            "4  66107    998.146           383.8883           220.4545        67117   \n",
            "\n",
            "   Equiv_Diameter  Eccentricity  Solidity  Extent  Roundness  Aspect_Ration  \\\n",
            "0        267.6805        0.7376    0.9902  0.7453     0.8963         1.4809   \n",
            "1        312.3614        0.8275    0.9916  0.7151     0.8440         1.7811   \n",
            "2        301.9822        0.8749    0.9857  0.7400     0.7674         2.0651   \n",
            "3        290.8899        0.8123    0.9902  0.7396     0.8486         1.7146   \n",
            "4        290.1207        0.8187    0.9850  0.6752     0.8338         1.7413   \n",
            "\n",
            "   Compactness       Class  \n",
            "0       0.8207  Çerçevelik  \n",
            "1       0.7487  Çerçevelik  \n",
            "2       0.6929  Çerçevelik  \n",
            "3       0.7624  Çerçevelik  \n",
            "4       0.7557  Çerçevelik  \n",
            "       Area  Perimeter  Major_Axis_Length  Minor_Axis_Length  Convex_Area  \\\n",
            "2495  79637   1224.710           533.1513           190.4367        80381   \n",
            "2496  69647   1084.318           462.9416           191.8210        70216   \n",
            "2497  87994   1210.314           507.2200           222.1872        88702   \n",
            "2498  80011   1182.947           501.9065           204.7531        80902   \n",
            "2499  84934   1159.933           462.8951           234.5597        85781   \n",
            "\n",
            "      Equiv_Diameter  Eccentricity  Solidity  Extent  Roundness  \\\n",
            "2495        318.4289        0.9340    0.9907  0.4888     0.6672   \n",
            "2496        297.7874        0.9101    0.9919  0.6002     0.7444   \n",
            "2497        334.7199        0.8990    0.9920  0.7643     0.7549   \n",
            "2498        319.1758        0.9130    0.9890  0.7374     0.7185   \n",
            "2499        328.8485        0.8621    0.9901  0.7360     0.7933   \n",
            "\n",
            "      Aspect_Ration  Compactness          Class  \n",
            "2495         2.7996       0.5973  Ürgüp Sivrisi  \n",
            "2496         2.4134       0.6433  Ürgüp Sivrisi  \n",
            "2497         2.2828       0.6599  Ürgüp Sivrisi  \n",
            "2498         2.4513       0.6359  Ürgüp Sivrisi  \n",
            "2499         1.9735       0.7104  Ürgüp Sivrisi  \n",
            "                Area    Perimeter  Major_Axis_Length  Minor_Axis_Length  \\\n",
            "count    2500.000000  2500.000000        2500.000000        2500.000000   \n",
            "mean    80658.220800  1130.279015         456.601840         225.794921   \n",
            "std     13664.510228   109.256418          56.235704          23.297245   \n",
            "min     47939.000000   868.485000         320.844600         152.171800   \n",
            "25%     70765.000000  1048.829750         414.957850         211.245925   \n",
            "50%     79076.000000  1123.672000         449.496600         224.703100   \n",
            "75%     89757.500000  1203.340500         492.737650         240.672875   \n",
            "max    136574.000000  1559.450000         661.911300         305.818000   \n",
            "\n",
            "         Convex_Area  Equiv_Diameter  Eccentricity     Solidity       Extent  \\\n",
            "count    2500.000000     2500.000000   2500.000000  2500.000000  2500.000000   \n",
            "mean    81508.084400      319.334230      0.860879     0.989492     0.693205   \n",
            "std     13764.092788       26.891920      0.045167     0.003494     0.060914   \n",
            "min     48366.000000      247.058400      0.492100     0.918600     0.468000   \n",
            "25%     71512.000000      300.167975      0.831700     0.988300     0.658900   \n",
            "50%     79872.000000      317.305350      0.863700     0.990300     0.713050   \n",
            "75%     90797.750000      338.057375      0.897025     0.991500     0.740225   \n",
            "max    138384.000000      417.002900      0.948100     0.994400     0.829600   \n",
            "\n",
            "         Roundness  Aspect_Ration  Compactness  \n",
            "count  2500.000000    2500.000000  2500.000000  \n",
            "mean      0.791533       2.041702     0.704121  \n",
            "std       0.055924       0.315997     0.053067  \n",
            "min       0.554600       1.148700     0.560800  \n",
            "25%       0.751900       1.801050     0.663475  \n",
            "50%       0.797750       1.984200     0.707700  \n",
            "75%       0.834325       2.262075     0.743500  \n",
            "max       0.939600       3.144400     0.904900  \n"
          ]
        }
      ],
      "source": [
        "print(df.head())\n",
        "print(df.tail())\n",
        "print(df.describe())"
      ]
    },
    {
      "cell_type": "code",
      "execution_count": 5,
      "metadata": {
        "colab": {
          "base_uri": "https://localhost:8080/"
        },
        "id": "OUSv0deQEzFS",
        "outputId": "01be15ac-8195-4c70-b49f-7014a4c59215"
      },
      "outputs": [
        {
          "data": {
            "text/plain": [
              "Çerçevelik       1300\n",
              "Ürgüp Sivrisi    1200\n",
              "Name: Class, dtype: int64"
            ]
          },
          "execution_count": 5,
          "metadata": {},
          "output_type": "execute_result"
        }
      ],
      "source": [
        "#Finding the number of distinct data in Class\n",
        "df[\"Class\"].value_counts()"
      ]
    },
    {
      "cell_type": "code",
      "execution_count": 6,
      "metadata": {
        "id": "0PBHdHyqKXJT"
      },
      "outputs": [],
      "source": [
        "#Replace 'Çerçevelik' by 0 in Class column\n",
        "df=df.replace('Çerçevelik', 0)"
      ]
    },
    {
      "cell_type": "code",
      "execution_count": 7,
      "metadata": {
        "id": "37uq0SgAOali"
      },
      "outputs": [],
      "source": [
        "#Replace 'Ürgüp Sivrisi' by 1 in Class column\n",
        "df=df.replace('Ürgüp Sivrisi', value =1)"
      ]
    },
    {
      "cell_type": "code",
      "execution_count": 8,
      "metadata": {
        "colab": {
          "base_uri": "https://localhost:8080/"
        },
        "id": "E-pLewBkOn1o",
        "outputId": "8262b3ae-9dcf-4cd9-87a8-d71535acaf76"
      },
      "outputs": [
        {
          "name": "stdout",
          "output_type": "stream",
          "text": [
            "       Area  Perimeter  Major_Axis_Length  Minor_Axis_Length  Convex_Area  \\\n",
            "0     56276    888.242           326.1485           220.2388        56831   \n",
            "1     76631   1068.146           417.1932           234.2289        77280   \n",
            "2     71623   1082.987           435.8328           211.0457        72663   \n",
            "3     66458    992.051           381.5638           222.5322        67118   \n",
            "4     66107    998.146           383.8883           220.4545        67117   \n",
            "...     ...        ...                ...                ...          ...   \n",
            "2495  79637   1224.710           533.1513           190.4367        80381   \n",
            "2496  69647   1084.318           462.9416           191.8210        70216   \n",
            "2497  87994   1210.314           507.2200           222.1872        88702   \n",
            "2498  80011   1182.947           501.9065           204.7531        80902   \n",
            "2499  84934   1159.933           462.8951           234.5597        85781   \n",
            "\n",
            "      Equiv_Diameter  Eccentricity  Solidity  Extent  Roundness  \\\n",
            "0           267.6805        0.7376    0.9902  0.7453     0.8963   \n",
            "1           312.3614        0.8275    0.9916  0.7151     0.8440   \n",
            "2           301.9822        0.8749    0.9857  0.7400     0.7674   \n",
            "3           290.8899        0.8123    0.9902  0.7396     0.8486   \n",
            "4           290.1207        0.8187    0.9850  0.6752     0.8338   \n",
            "...              ...           ...       ...     ...        ...   \n",
            "2495        318.4289        0.9340    0.9907  0.4888     0.6672   \n",
            "2496        297.7874        0.9101    0.9919  0.6002     0.7444   \n",
            "2497        334.7199        0.8990    0.9920  0.7643     0.7549   \n",
            "2498        319.1758        0.9130    0.9890  0.7374     0.7185   \n",
            "2499        328.8485        0.8621    0.9901  0.7360     0.7933   \n",
            "\n",
            "      Aspect_Ration  Compactness  Class  \n",
            "0            1.4809       0.8207      0  \n",
            "1            1.7811       0.7487      0  \n",
            "2            2.0651       0.6929      0  \n",
            "3            1.7146       0.7624      0  \n",
            "4            1.7413       0.7557      0  \n",
            "...             ...          ...    ...  \n",
            "2495         2.7996       0.5973      1  \n",
            "2496         2.4134       0.6433      1  \n",
            "2497         2.2828       0.6599      1  \n",
            "2498         2.4513       0.6359      1  \n",
            "2499         1.9735       0.7104      1  \n",
            "\n",
            "[2500 rows x 13 columns]\n"
          ]
        }
      ],
      "source": [
        "print(df)"
      ]
    },
    {
      "cell_type": "code",
      "execution_count": 9,
      "metadata": {
        "colab": {
          "base_uri": "https://localhost:8080/"
        },
        "id": "fASL7fDGOw5n",
        "outputId": "d552c84a-149f-4317-d509-5b19322d9431"
      },
      "outputs": [
        {
          "data": {
            "text/plain": [
              "0    1300\n",
              "1    1200\n",
              "Name: Class, dtype: int64"
            ]
          },
          "execution_count": 9,
          "metadata": {},
          "output_type": "execute_result"
        }
      ],
      "source": [
        "df[\"Class\"].value_counts()"
      ]
    },
    {
      "cell_type": "code",
      "execution_count": 10,
      "metadata": {
        "id": "xYGj88GKIKNV"
      },
      "outputs": [],
      "source": [
        " #import 'train_test_split' from sklearn\n",
        " from sklearn.model_selection import train_test_split"
      ]
    },
    {
      "cell_type": "code",
      "execution_count": 11,
      "metadata": {
        "id": "rIjnRl90IP6a"
      },
      "outputs": [],
      "source": [
        "#Define X by removing Class feature\n",
        "X = df.drop(['Class'], axis=1)\n",
        "#define y by class\n",
        "y = df['Class']\n",
        "#splitting the dataset into two-train(50%) & temporary cases(50%)\n",
        "X_train, X_temp, y_train, y_temp = train_test_split(X, y, test_size=0.5, random_state=42)\n",
        "#splitting the temp dataset into two-test(20%) & validation cases(30%)\n",
        "X_test, X_validate, y_test, y_validate = train_test_split(X_temp, y_temp, test_size=0.6, random_state=42)"
      ]
    },
    {
      "cell_type": "code",
      "execution_count": 12,
      "metadata": {
        "colab": {
          "base_uri": "https://localhost:8080/"
        },
        "id": "DTjdMZapk8we",
        "outputId": "ee5cbe66-d6ce-4e8c-f222-55d8ddd260eb"
      },
      "outputs": [
        {
          "name": "stdout",
          "output_type": "stream",
          "text": [
            "(1250, 12)\n",
            "(750, 12)\n",
            "(500, 12)\n",
            "(1250,)\n",
            "(750,)\n",
            "(500,)\n"
          ]
        }
      ],
      "source": [
        "#printing the shape of X_train, X_validate and X_test (to check if its done successfully)\n",
        "print(X_train.shape)\n",
        "print(X_validate.shape)\n",
        "print(X_test.shape)\n",
        "print (y_train.shape)\n",
        "print (y_validate.shape)\n",
        "print (y_test.shape)"
      ]
    },
    {
      "cell_type": "code",
      "execution_count": 13,
      "metadata": {
        "id": "68m0emjHF9qv"
      },
      "outputs": [],
      "source": [
        "#import numpy as np\n",
        "import numpy as np\n",
        "import math\n",
        "\n",
        "#sigmoid fn:\n",
        "def sigmoid(z):\n",
        "  if(z>=0):\n",
        "    soln=1/(1+(math.exp(-z)))\n",
        "    return soln\n",
        "  else:\n",
        "    soln=1/(1+(math.exp(z)))\n",
        "    return soln\n",
        "\n",
        "# Applying standard Logistic Regression Classifier\n",
        "theta=np.random.randn(12) * 0.1\n",
        "lr=0.0001\n",
        "bias=np.random.randn()\n",
        "train_loss=[]\n",
        "validation_loss=[]\n",
        "for j in range(400):\n",
        "    z=np.dot(X_train,theta)+bias\n",
        "    y_predict=list(map(sigmoid, z))\n",
        "\n",
        "    # compute the error\n",
        "    error=y_predict-y_train\n",
        "    derivative = (2 *lr/ len(X_train)) * np.dot(X_train.T,error)\n",
        "\n",
        "    theta -= derivative\n",
        "    bias-=(2 *lr/ len(X_validate))*np.sum(error)"
      ]
    },
    {
      "cell_type": "code",
      "execution_count": 14,
      "metadata": {
        "colab": {
          "base_uri": "https://localhost:8080/"
        },
        "id": "mldTkXjjryix",
        "outputId": "99d71744-eb85-43dc-ea76-f99ce8d31341"
      },
      "outputs": [
        {
          "name": "stdout",
          "output_type": "stream",
          "text": [
            "[-3.22198705e+03 -4.49055865e+01 -1.75202002e+01 -9.54781544e+00\n",
            " -3.25747795e+03 -1.29178123e+01 -1.66928693e-01 -8.66263842e-02\n",
            " -1.10496689e-01 -4.34789490e-02 -7.28143158e-03 -2.43518324e-02] 0.8375898142036505\n"
          ]
        }
      ],
      "source": [
        "print(theta, bias)"
      ]
    },
    {
      "cell_type": "code",
      "execution_count": 15,
      "metadata": {
        "id": "4XBoTZqQr32K"
      },
      "outputs": [],
      "source": [
        "z=np.dot(X_test,theta)+bias\n",
        "y_predict_test=list(map(sigmoid, z))\n",
        "z=np.dot(X_validate,theta)+bias\n",
        "y_validate_test=list(map(sigmoid, z))\n",
        "z=np.dot(X_train,theta)+bias\n",
        "y_train_test=list(map(sigmoid, z))"
      ]
    },
    {
      "cell_type": "code",
      "execution_count": null,
      "metadata": {
        "id": "p7dq28srzFCV"
      },
      "outputs": [],
      "source": [
        "# y_predict_test.shape\n",
        "# print(y_validate_test.shape)"
      ]
    },
    {
      "cell_type": "code",
      "execution_count": 16,
      "metadata": {
        "colab": {
          "base_uri": "https://localhost:8080/"
        },
        "id": "56EpUOZA4fSA",
        "outputId": "b42f84fa-0643-4c71-ad0b-eb7bcb7cc09e"
      },
      "outputs": [
        {
          "name": "stdout",
          "output_type": "stream",
          "text": [
            "mean accuracy(train) :  0.4816\n",
            "mean accuracy(validation) :  0.49333333333333335\n",
            "Precision(train):  0.456\n",
            "Precision (validation):  0.456\n",
            "Recall(train):  0.456\n",
            "Recall (validation):  0.456\n"
          ]
        }
      ],
      "source": [
        "from sklearn.metrics import confusion_matrix\n",
        "from sklearn.metrics import accuracy_score\n",
        "from sklearn.metrics import precision_score\n",
        "from sklearn.metrics import recall_score\n",
        "\n",
        "# mean accuracy, precision and recall\n",
        "accuracy3 = accuracy_score(y_train, y_train_test)\n",
        "print(\"mean accuracy(train) : \", accuracy3)\n",
        "accuracy2 = accuracy_score(y_validate, y_validate_test)\n",
        "print(\"mean accuracy(validation) : \", accuracy2)\n",
        "\n",
        "#precision tp / (tp + fp)\n",
        "precision2 = precision_score(y_test, y_predict_test)\n",
        "print('Precision(train): ', precision2)\n",
        "precision3 = precision_score(y_test, y_predict_test)\n",
        "print('Precision (validation): ', precision3)\n",
        "\n",
        "# recall: tp / (tp + fn)\n",
        "recall2 = precision_score(y_test, y_predict_test)\n",
        "print('Recall(train): ', recall2)\n",
        "recall3 = precision_score(y_test, y_predict_test)\n",
        "print('Recall (validation): ', recall3)\n"
      ]
    }
  ],
  "metadata": {
    "colab": {
      "provenance": []
    },
    "kernelspec": {
      "display_name": "base",
      "language": "python",
      "name": "python3"
    },
    "language_info": {
      "codemirror_mode": {
        "name": "ipython",
        "version": 3
      },
      "file_extension": ".py",
      "mimetype": "text/x-python",
      "name": "python",
      "nbconvert_exporter": "python",
      "pygments_lexer": "ipython3",
      "version": "3.9.12"
    },
    "orig_nbformat": 4,
    "vscode": {
      "interpreter": {
        "hash": "3067ead486e059ec00ffe7555bdb889e6e264a24dc711bf108106cc7baee8d5d"
      }
    }
  },
  "nbformat": 4,
  "nbformat_minor": 0
}
